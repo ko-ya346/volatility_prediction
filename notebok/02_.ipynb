{
 "cells": [
  {
   "cell_type": "code",
   "execution_count": 41,
   "id": "9c710440",
   "metadata": {
    "ExecuteTime": {
     "end_time": "2021-08-13T03:10:30.397915Z",
     "start_time": "2021-08-13T03:10:30.395716Z"
    }
   },
   "outputs": [],
   "source": [
    "import os\n",
    "import sys\n",
    "import glob\n",
    "\n",
    "import numpy as np\n",
    "import pandas as pd\n",
    "import matplotlib.pyplot as plt\n",
    "\n",
    "from sklearn.model_selection import KFold\n",
    "\n",
    "import lightgbm as lgbm"
   ]
  },
  {
   "cell_type": "code",
   "execution_count": 35,
   "id": "c3723634",
   "metadata": {
    "ExecuteTime": {
     "end_time": "2021-08-13T02:54:38.297463Z",
     "start_time": "2021-08-13T02:54:38.295413Z"
    }
   },
   "outputs": [],
   "source": [
    "sys.path.append(\"../\")\n",
    "from src.utils import calc_wap, calc_wap2, log_return, realized_volatility, count_unique"
   ]
  },
  {
   "cell_type": "code",
   "execution_count": 3,
   "id": "a7a9fab1",
   "metadata": {
    "ExecuteTime": {
     "end_time": "2021-08-12T14:29:13.607458Z",
     "start_time": "2021-08-12T14:29:13.605844Z"
    }
   },
   "outputs": [],
   "source": [
    "INPUT_DIR = \"../input\""
   ]
  },
  {
   "cell_type": "code",
   "execution_count": 4,
   "id": "76522b17",
   "metadata": {
    "ExecuteTime": {
     "end_time": "2021-08-12T14:29:13.786660Z",
     "start_time": "2021-08-12T14:29:13.608435Z"
    }
   },
   "outputs": [
    {
     "data": {
      "text/html": [
       "<div>\n",
       "<style scoped>\n",
       "    .dataframe tbody tr th:only-of-type {\n",
       "        vertical-align: middle;\n",
       "    }\n",
       "\n",
       "    .dataframe tbody tr th {\n",
       "        vertical-align: top;\n",
       "    }\n",
       "\n",
       "    .dataframe thead th {\n",
       "        text-align: right;\n",
       "    }\n",
       "</style>\n",
       "<table border=\"1\" class=\"dataframe\">\n",
       "  <thead>\n",
       "    <tr style=\"text-align: right;\">\n",
       "      <th></th>\n",
       "      <th>time_id</th>\n",
       "      <th>seconds_in_bucket</th>\n",
       "      <th>bid_price1</th>\n",
       "      <th>ask_price1</th>\n",
       "      <th>bid_price2</th>\n",
       "      <th>ask_price2</th>\n",
       "      <th>bid_size1</th>\n",
       "      <th>ask_size1</th>\n",
       "      <th>bid_size2</th>\n",
       "      <th>ask_size2</th>\n",
       "    </tr>\n",
       "  </thead>\n",
       "  <tbody>\n",
       "    <tr>\n",
       "      <th>0</th>\n",
       "      <td>5</td>\n",
       "      <td>0</td>\n",
       "      <td>0.999519</td>\n",
       "      <td>0.999839</td>\n",
       "      <td>0.999454</td>\n",
       "      <td>0.999904</td>\n",
       "      <td>2</td>\n",
       "      <td>166</td>\n",
       "      <td>2</td>\n",
       "      <td>12</td>\n",
       "    </tr>\n",
       "    <tr>\n",
       "      <th>1</th>\n",
       "      <td>5</td>\n",
       "      <td>1</td>\n",
       "      <td>0.999711</td>\n",
       "      <td>1.000225</td>\n",
       "      <td>0.999647</td>\n",
       "      <td>1.000289</td>\n",
       "      <td>100</td>\n",
       "      <td>20</td>\n",
       "      <td>100</td>\n",
       "      <td>20</td>\n",
       "    </tr>\n",
       "    <tr>\n",
       "      <th>2</th>\n",
       "      <td>5</td>\n",
       "      <td>2</td>\n",
       "      <td>0.999775</td>\n",
       "      <td>1.000225</td>\n",
       "      <td>0.999711</td>\n",
       "      <td>1.000289</td>\n",
       "      <td>1</td>\n",
       "      <td>20</td>\n",
       "      <td>400</td>\n",
       "      <td>20</td>\n",
       "    </tr>\n",
       "    <tr>\n",
       "      <th>3</th>\n",
       "      <td>5</td>\n",
       "      <td>3</td>\n",
       "      <td>0.999839</td>\n",
       "      <td>1.000225</td>\n",
       "      <td>0.999775</td>\n",
       "      <td>1.000289</td>\n",
       "      <td>100</td>\n",
       "      <td>20</td>\n",
       "      <td>1</td>\n",
       "      <td>20</td>\n",
       "    </tr>\n",
       "    <tr>\n",
       "      <th>4</th>\n",
       "      <td>5</td>\n",
       "      <td>4</td>\n",
       "      <td>0.999839</td>\n",
       "      <td>1.000225</td>\n",
       "      <td>0.999711</td>\n",
       "      <td>1.000289</td>\n",
       "      <td>1</td>\n",
       "      <td>20</td>\n",
       "      <td>400</td>\n",
       "      <td>20</td>\n",
       "    </tr>\n",
       "  </tbody>\n",
       "</table>\n",
       "</div>"
      ],
      "text/plain": [
       "   time_id  seconds_in_bucket  bid_price1  ask_price1  bid_price2  ask_price2  \\\n",
       "0        5                  0    0.999519    0.999839    0.999454    0.999904   \n",
       "1        5                  1    0.999711    1.000225    0.999647    1.000289   \n",
       "2        5                  2    0.999775    1.000225    0.999711    1.000289   \n",
       "3        5                  3    0.999839    1.000225    0.999775    1.000289   \n",
       "4        5                  4    0.999839    1.000225    0.999711    1.000289   \n",
       "\n",
       "   bid_size1  ask_size1  bid_size2  ask_size2  \n",
       "0          2        166          2         12  \n",
       "1        100         20        100         20  \n",
       "2          1         20        400         20  \n",
       "3        100         20          1         20  \n",
       "4          1         20        400         20  "
      ]
     },
     "execution_count": 4,
     "metadata": {},
     "output_type": "execute_result"
    }
   ],
   "source": [
    "book_train = pd.read_parquet(os.path.join(INPUT_DIR, \"book_train.parquet/stock_id=15\"))\n",
    "book_train.head()"
   ]
  },
  {
   "cell_type": "markdown",
   "id": "c66671b3",
   "metadata": {},
   "source": [
    " # 特徴量生成する関数たち"
   ]
  },
  {
   "cell_type": "code",
   "execution_count": 5,
   "id": "e397f89c",
   "metadata": {
    "ExecuteTime": {
     "end_time": "2021-08-12T14:29:13.793282Z",
     "start_time": "2021-08-12T14:29:13.787536Z"
    }
   },
   "outputs": [],
   "source": [
    "def preprocessor_book(file_path):\n",
    "    \"\"\"\n",
    "    bookデータの特徴量を生成\n",
    "\n",
    "    CHECK\n",
    "    ------\n",
    "    last_secondsのlistに数字を加えれば、最後から何秒みたいなところだけで特徴作れる\n",
    "    このリストは外で定義したほうがよいかも（preprocessor_tradeでも使う）\n",
    "    create_feature_dict も外で定義したい\n",
    "    \"\"\"\n",
    "    df = pd.read_parquet(file_path)\n",
    "    # calculate return etc\n",
    "    df[\"wap\"] = calc_wap(df)\n",
    "    df[\"log_return\"] = df.groupby(\"time_id\")[\"wap\"].apply(log_return)\n",
    "\n",
    "    df[\"wap2\"] = calc_wap2(df)\n",
    "    df[\"log_return2\"] = df.groupby(\"time_id\")[\"wap2\"].apply(log_return)\n",
    "\n",
    "    df[\"wap_balance\"] = abs(df[\"wap\"] - df[\"wap2\"])\n",
    "\n",
    "    df[\"price_spread\"] = (df[\"ask_price1\"] - df[\"bid_price1\"]) / (\n",
    "        (df[\"ask_price1\"] + df[\"bid_price1\"]) / 2\n",
    "    )\n",
    "    df[\"bid_spread\"] = df[\"bid_price1\"] - df[\"bid_price2\"]\n",
    "    df[\"ask_spread\"] = df[\"ask_price1\"] - df[\"ask_price2\"]\n",
    "    df[\"total_volume\"] = (df[\"ask_size1\"] + df[\"ask_size2\"]) + (\n",
    "        df[\"bid_size1\"] + df[\"bid_size2\"]\n",
    "    )\n",
    "    df[\"volume_imbalance\"] = abs(\n",
    "        (df[\"ask_size1\"] + df[\"ask_size2\"]) - (df[\"bid_size1\"] + df[\"bid_size2\"])\n",
    "    )\n",
    "\n",
    "    # dict for aggregate\n",
    "    create_feature_dict = {\n",
    "        \"log_return\": [realized_volatility],\n",
    "        \"log_return2\": [realized_volatility],\n",
    "        \"wap_balance\": [np.mean],\n",
    "        \"price_spread\": [np.mean],\n",
    "        \"bid_spread\": [np.mean],\n",
    "        \"ask_spread\": [np.mean],\n",
    "        \"volume_imbalance\": [np.mean],\n",
    "        \"total_volume\": [np.mean],\n",
    "        \"wap\": [np.mean],\n",
    "    }\n",
    "\n",
    "    #####groupby / all seconds\n",
    "    df_feature = pd.DataFrame(\n",
    "        df.groupby([\"time_id\"]).agg(create_feature_dict)\n",
    "    ).reset_index()\n",
    "\n",
    "    df_feature.columns = [\n",
    "        \"_\".join(col) for col in df_feature.columns\n",
    "    ]  # time_id is changed to time_id_\n",
    "\n",
    "    ######groupby / last XX seconds\n",
    "    last_seconds = [300]\n",
    "\n",
    "    for second in last_seconds:\n",
    "        second = 600 - second\n",
    "\n",
    "        df_feature_sec = pd.DataFrame(\n",
    "            df.query(f\"seconds_in_bucket >= {second}\")\n",
    "            .groupby([\"time_id\"])\n",
    "            .agg(create_feature_dict)\n",
    "        ).reset_index()\n",
    "\n",
    "        df_feature_sec.columns = [\n",
    "            \"_\".join(col) for col in df_feature_sec.columns\n",
    "        ]  # time_id is changed to time_id_\n",
    "\n",
    "        df_feature_sec = df_feature_sec.add_suffix(\"_\" + str(second))\n",
    "\n",
    "        df_feature = pd.merge(\n",
    "            df_feature,\n",
    "            df_feature_sec,\n",
    "            how=\"left\",\n",
    "            left_on=\"time_id_\",\n",
    "            right_on=f\"time_id__{second}\",\n",
    "        )\n",
    "        df_feature = df_feature.drop([f\"time_id__{second}\"], axis=1)\n",
    "\n",
    "    # create row_id\n",
    "    stock_id = file_path.split(\"=\")[1]\n",
    "    df_feature[\"row_id\"] = df_feature[\"time_id_\"].apply(lambda x: f\"{stock_id}-{x}\")\n",
    "    df_feature = df_feature.drop([\"time_id_\"], axis=1)\n",
    "\n",
    "    return df_feature"
   ]
  },
  {
   "cell_type": "code",
   "execution_count": 6,
   "id": "2d76b181",
   "metadata": {
    "ExecuteTime": {
     "end_time": "2021-08-12T14:29:13.798369Z",
     "start_time": "2021-08-12T14:29:13.794213Z"
    }
   },
   "outputs": [],
   "source": [
    "def preprocessor_trade(file_path):\n",
    "    \"\"\"\n",
    "    tradeデータの特徴量を生成\n",
    "\n",
    "    CHECK\n",
    "    ------\n",
    "    last_secondsのlistに数字を加えれば、最後から何秒みたいなところだけで特徴作れる\n",
    "    このリストは外で定義したほうがよいかも（preprocessor_tradeでも使う）\n",
    "    aggregate_dictionary も外で定義したい\n",
    "    \"\"\"\n",
    "    df = pd.read_parquet(file_path)\n",
    "    df[\"log_return\"] = df.groupby(\"time_id\")[\"price\"].apply(log_return)\n",
    "\n",
    "    aggregate_dictionary = {\n",
    "        \"log_return\": [realized_volatility],\n",
    "        \"seconds_in_bucket\": [count_unique],\n",
    "        \"size\": [np.sum],\n",
    "        \"order_count\": [np.mean],\n",
    "    }\n",
    "\n",
    "    df_feature = df.groupby(\"time_id\").agg(aggregate_dictionary)\n",
    "\n",
    "    df_feature = df_feature.reset_index()\n",
    "    df_feature.columns = [\"_\".join(col) for col in df_feature.columns]\n",
    "\n",
    "    ######groupby / last XX seconds\n",
    "    last_seconds = [300]\n",
    "\n",
    "    for second in last_seconds:\n",
    "        second = 600 - second\n",
    "\n",
    "        df_feature_sec = (\n",
    "            df.query(f\"seconds_in_bucket >= {second}\")\n",
    "            .groupby(\"time_id\")\n",
    "            .agg(aggregate_dictionary)\n",
    "        )\n",
    "        df_feature_sec = df_feature_sec.reset_index()\n",
    "\n",
    "        df_feature_sec.columns = [\"_\".join(col) for col in df_feature_sec.columns]\n",
    "        df_feature_sec = df_feature_sec.add_suffix(\"_\" + str(second))\n",
    "\n",
    "        df_feature = pd.merge(\n",
    "            df_feature,\n",
    "            df_feature_sec,\n",
    "            how=\"left\",\n",
    "            left_on=\"time_id_\",\n",
    "            right_on=f\"time_id__{second}\",\n",
    "        )\n",
    "        df_feature = df_feature.drop([f\"time_id__{second}\"], axis=1)\n",
    "\n",
    "    df_feature = df_feature.add_prefix(\"trade_\")\n",
    "    stock_id = file_path.split(\"=\")[1]\n",
    "    df_feature[\"row_id\"] = df_feature[\"trade_time_id_\"].apply(\n",
    "        lambda x: f\"{stock_id}-{x}\"\n",
    "    )\n",
    "    df_feature = df_feature.drop([\"trade_time_id_\"], axis=1)\n",
    "\n",
    "    return df_feature"
   ]
  },
  {
   "cell_type": "code",
   "execution_count": 7,
   "id": "172edc2f",
   "metadata": {
    "ExecuteTime": {
     "end_time": "2021-08-12T14:29:13.802270Z",
     "start_time": "2021-08-12T14:29:13.799389Z"
    }
   },
   "outputs": [],
   "source": [
    "def preprocessor(data_dir, list_stock_ids, is_train=True):\n",
    "    from joblib import Parallel, delayed  # parallel computing to save time\n",
    "\n",
    "    df = pd.DataFrame()\n",
    "\n",
    "    def for_joblib(stock_id):\n",
    "        if is_train:\n",
    "            file_path_book = os.path.join(\n",
    "                data_dir, f\"book_train.parquet/stock_id={stock_id}\"\n",
    "            )\n",
    "            file_path_trade = os.path.join(\n",
    "                data_dir, f\"trade_train.parquet/stock_id={stock_id}\"\n",
    "            )\n",
    "        else:\n",
    "            file_path_book = os.path.join(\n",
    "                data_dir, f\"book_test.parquet/stock_id={stock_id}\"\n",
    "            )\n",
    "            file_path_trade = os.path.join(\n",
    "                data_dir, f\"trade_test.parquet/stock_id={stock_id}\"\n",
    "            )\n",
    "\n",
    "        df_tmp = pd.merge(\n",
    "            preprocessor_book(file_path_book),\n",
    "            preprocessor_trade(file_path_trade),\n",
    "            on=\"row_id\",\n",
    "            how=\"left\",\n",
    "        )\n",
    "        return pd.concat([df, df_tmp])\n",
    "\n",
    "    df = Parallel(n_jobs=-1, verbose=1)(\n",
    "        delayed(for_joblib)(stock_id) for stock_id in list_stock_ids\n",
    "    )\n",
    "\n",
    "    df = pd.concat(df, ignore_index=True)\n",
    "    return df"
   ]
  },
  {
   "cell_type": "code",
   "execution_count": 33,
   "id": "cbe7c6fe",
   "metadata": {
    "ExecuteTime": {
     "end_time": "2021-08-13T02:54:06.529122Z",
     "start_time": "2021-08-13T02:54:06.525558Z"
    }
   },
   "outputs": [],
   "source": [
    "def calc_model_importance(model, feature_names=None, importance_type=\"gain\"):\n",
    "    importance_df = pd.DataFrame(\n",
    "        model.feature_importance(importance_type=importance_type),\n",
    "        index=feature_names,\n",
    "        columns=[\"importance\"],\n",
    "    ).sort_values(\"importance\")\n",
    "    return importance_df\n",
    "\n",
    "\n",
    "def plot_importance(importance_df, title=\"\", save_filepath=None, figsize=(8, 12)):\n",
    "    fig, ax = plt.subplots(figsize=figsize)\n",
    "    importance_df.plot.barh(ax=ax)\n",
    "    if title:\n",
    "        plt.title(title)\n",
    "    plt.tight_layout()\n",
    "    if save_filepath is None:\n",
    "        plt.show()\n",
    "    else:\n",
    "        plt.savefig(save_filepath)\n",
    "    plt.close()\n",
    "    \n",
    "def rmspe(y_true, y_pred):\n",
    "    return  (np.sqrt(np.mean(np.square((y_true - y_pred) / y_true))))\n",
    "\n",
    "def feval_RMSPE(preds, lgbm_train):\n",
    "    labels = lgbm_train.get_label()\n",
    "    return 'RMSPE', round(rmspe(y_true = labels, y_pred = preds),5), False"
   ]
  },
  {
   "cell_type": "markdown",
   "id": "7d1b5baf",
   "metadata": {},
   "source": [
    "# run"
   ]
  },
  {
   "cell_type": "code",
   "execution_count": 8,
   "id": "0f95ec7c",
   "metadata": {
    "ExecuteTime": {
     "end_time": "2021-08-12T14:29:17.899178Z",
     "start_time": "2021-08-12T14:29:13.803434Z"
    }
   },
   "outputs": [
    {
     "name": "stdout",
     "output_type": "stream",
     "text": [
      "CPU times: user 4.05 s, sys: 38.8 ms, total: 4.09 s\n",
      "Wall time: 4.09 s\n"
     ]
    },
    {
     "data": {
      "text/plain": [
       "Index(['log_return_realized_volatility', 'log_return2_realized_volatility',\n",
       "       'wap_balance_mean', 'price_spread_mean', 'bid_spread_mean',\n",
       "       'ask_spread_mean', 'volume_imbalance_mean', 'total_volume_mean',\n",
       "       'wap_mean', 'log_return_realized_volatility_300',\n",
       "       'log_return2_realized_volatility_300', 'wap_balance_mean_300',\n",
       "       'price_spread_mean_300', 'bid_spread_mean_300', 'ask_spread_mean_300',\n",
       "       'volume_imbalance_mean_300', 'total_volume_mean_300', 'wap_mean_300',\n",
       "       'row_id'],\n",
       "      dtype='object')"
      ]
     },
     "execution_count": 8,
     "metadata": {},
     "output_type": "execute_result"
    }
   ],
   "source": [
    "%%time\n",
    "file_path = os.path.join(INPUT_DIR, \"book_train.parquet/stock_id=0\")\n",
    "df = preprocessor_book(file_path)\n",
    "df.columns"
   ]
  },
  {
   "cell_type": "code",
   "execution_count": 9,
   "id": "167dd32a",
   "metadata": {
    "ExecuteTime": {
     "end_time": "2021-08-12T14:29:19.918199Z",
     "start_time": "2021-08-12T14:29:17.900268Z"
    },
    "scrolled": true
   },
   "outputs": [
    {
     "name": "stdout",
     "output_type": "stream",
     "text": [
      "CPU times: user 2 s, sys: 21 ms, total: 2.02 s\n",
      "Wall time: 2.01 s\n"
     ]
    },
    {
     "data": {
      "text/html": [
       "<div>\n",
       "<style scoped>\n",
       "    .dataframe tbody tr th:only-of-type {\n",
       "        vertical-align: middle;\n",
       "    }\n",
       "\n",
       "    .dataframe tbody tr th {\n",
       "        vertical-align: top;\n",
       "    }\n",
       "\n",
       "    .dataframe thead th {\n",
       "        text-align: right;\n",
       "    }\n",
       "</style>\n",
       "<table border=\"1\" class=\"dataframe\">\n",
       "  <thead>\n",
       "    <tr style=\"text-align: right;\">\n",
       "      <th></th>\n",
       "      <th>trade_log_return_realized_volatility</th>\n",
       "      <th>trade_seconds_in_bucket_count_unique</th>\n",
       "      <th>trade_size_sum</th>\n",
       "      <th>trade_order_count_mean</th>\n",
       "      <th>trade_log_return_realized_volatility_300</th>\n",
       "      <th>trade_seconds_in_bucket_count_unique_300</th>\n",
       "      <th>trade_size_sum_300</th>\n",
       "      <th>trade_order_count_mean_300</th>\n",
       "      <th>row_id</th>\n",
       "    </tr>\n",
       "  </thead>\n",
       "  <tbody>\n",
       "    <tr>\n",
       "      <th>0</th>\n",
       "      <td>0.002006</td>\n",
       "      <td>40</td>\n",
       "      <td>3179</td>\n",
       "      <td>2.750000</td>\n",
       "      <td>0.001308</td>\n",
       "      <td>21.0</td>\n",
       "      <td>1587.0</td>\n",
       "      <td>2.571429</td>\n",
       "      <td>0-5</td>\n",
       "    </tr>\n",
       "    <tr>\n",
       "      <th>1</th>\n",
       "      <td>0.000901</td>\n",
       "      <td>30</td>\n",
       "      <td>1289</td>\n",
       "      <td>1.900000</td>\n",
       "      <td>0.000587</td>\n",
       "      <td>16.0</td>\n",
       "      <td>900.0</td>\n",
       "      <td>2.250000</td>\n",
       "      <td>0-11</td>\n",
       "    </tr>\n",
       "    <tr>\n",
       "      <th>2</th>\n",
       "      <td>0.001961</td>\n",
       "      <td>25</td>\n",
       "      <td>2161</td>\n",
       "      <td>2.720000</td>\n",
       "      <td>0.001137</td>\n",
       "      <td>12.0</td>\n",
       "      <td>1189.0</td>\n",
       "      <td>3.166667</td>\n",
       "      <td>0-16</td>\n",
       "    </tr>\n",
       "    <tr>\n",
       "      <th>3</th>\n",
       "      <td>0.001561</td>\n",
       "      <td>15</td>\n",
       "      <td>1962</td>\n",
       "      <td>3.933333</td>\n",
       "      <td>0.001089</td>\n",
       "      <td>9.0</td>\n",
       "      <td>1556.0</td>\n",
       "      <td>5.111111</td>\n",
       "      <td>0-31</td>\n",
       "    </tr>\n",
       "    <tr>\n",
       "      <th>4</th>\n",
       "      <td>0.000871</td>\n",
       "      <td>22</td>\n",
       "      <td>1791</td>\n",
       "      <td>4.045455</td>\n",
       "      <td>0.000453</td>\n",
       "      <td>11.0</td>\n",
       "      <td>1219.0</td>\n",
       "      <td>4.909091</td>\n",
       "      <td>0-62</td>\n",
       "    </tr>\n",
       "    <tr>\n",
       "      <th>...</th>\n",
       "      <td>...</td>\n",
       "      <td>...</td>\n",
       "      <td>...</td>\n",
       "      <td>...</td>\n",
       "      <td>...</td>\n",
       "      <td>...</td>\n",
       "      <td>...</td>\n",
       "      <td>...</td>\n",
       "      <td>...</td>\n",
       "    </tr>\n",
       "    <tr>\n",
       "      <th>3825</th>\n",
       "      <td>0.001519</td>\n",
       "      <td>52</td>\n",
       "      <td>3450</td>\n",
       "      <td>3.057692</td>\n",
       "      <td>0.001162</td>\n",
       "      <td>35.0</td>\n",
       "      <td>2365.0</td>\n",
       "      <td>3.257143</td>\n",
       "      <td>0-32751</td>\n",
       "    </tr>\n",
       "    <tr>\n",
       "      <th>3826</th>\n",
       "      <td>0.001411</td>\n",
       "      <td>28</td>\n",
       "      <td>4547</td>\n",
       "      <td>3.892857</td>\n",
       "      <td>0.001066</td>\n",
       "      <td>12.0</td>\n",
       "      <td>2161.0</td>\n",
       "      <td>4.250000</td>\n",
       "      <td>0-32753</td>\n",
       "    </tr>\n",
       "    <tr>\n",
       "      <th>3827</th>\n",
       "      <td>0.001521</td>\n",
       "      <td>36</td>\n",
       "      <td>4250</td>\n",
       "      <td>3.500000</td>\n",
       "      <td>0.001242</td>\n",
       "      <td>22.0</td>\n",
       "      <td>2294.0</td>\n",
       "      <td>3.727273</td>\n",
       "      <td>0-32758</td>\n",
       "    </tr>\n",
       "    <tr>\n",
       "      <th>3828</th>\n",
       "      <td>0.001794</td>\n",
       "      <td>53</td>\n",
       "      <td>3217</td>\n",
       "      <td>2.150943</td>\n",
       "      <td>0.001404</td>\n",
       "      <td>25.0</td>\n",
       "      <td>1627.0</td>\n",
       "      <td>1.920000</td>\n",
       "      <td>0-32763</td>\n",
       "    </tr>\n",
       "    <tr>\n",
       "      <th>3829</th>\n",
       "      <td>0.001197</td>\n",
       "      <td>29</td>\n",
       "      <td>3679</td>\n",
       "      <td>2.413793</td>\n",
       "      <td>0.000801</td>\n",
       "      <td>16.0</td>\n",
       "      <td>2650.0</td>\n",
       "      <td>3.000000</td>\n",
       "      <td>0-32767</td>\n",
       "    </tr>\n",
       "  </tbody>\n",
       "</table>\n",
       "<p>3830 rows × 9 columns</p>\n",
       "</div>"
      ],
      "text/plain": [
       "      trade_log_return_realized_volatility  \\\n",
       "0                                 0.002006   \n",
       "1                                 0.000901   \n",
       "2                                 0.001961   \n",
       "3                                 0.001561   \n",
       "4                                 0.000871   \n",
       "...                                    ...   \n",
       "3825                              0.001519   \n",
       "3826                              0.001411   \n",
       "3827                              0.001521   \n",
       "3828                              0.001794   \n",
       "3829                              0.001197   \n",
       "\n",
       "      trade_seconds_in_bucket_count_unique  trade_size_sum  \\\n",
       "0                                       40            3179   \n",
       "1                                       30            1289   \n",
       "2                                       25            2161   \n",
       "3                                       15            1962   \n",
       "4                                       22            1791   \n",
       "...                                    ...             ...   \n",
       "3825                                    52            3450   \n",
       "3826                                    28            4547   \n",
       "3827                                    36            4250   \n",
       "3828                                    53            3217   \n",
       "3829                                    29            3679   \n",
       "\n",
       "      trade_order_count_mean  trade_log_return_realized_volatility_300  \\\n",
       "0                   2.750000                                  0.001308   \n",
       "1                   1.900000                                  0.000587   \n",
       "2                   2.720000                                  0.001137   \n",
       "3                   3.933333                                  0.001089   \n",
       "4                   4.045455                                  0.000453   \n",
       "...                      ...                                       ...   \n",
       "3825                3.057692                                  0.001162   \n",
       "3826                3.892857                                  0.001066   \n",
       "3827                3.500000                                  0.001242   \n",
       "3828                2.150943                                  0.001404   \n",
       "3829                2.413793                                  0.000801   \n",
       "\n",
       "      trade_seconds_in_bucket_count_unique_300  trade_size_sum_300  \\\n",
       "0                                         21.0              1587.0   \n",
       "1                                         16.0               900.0   \n",
       "2                                         12.0              1189.0   \n",
       "3                                          9.0              1556.0   \n",
       "4                                         11.0              1219.0   \n",
       "...                                        ...                 ...   \n",
       "3825                                      35.0              2365.0   \n",
       "3826                                      12.0              2161.0   \n",
       "3827                                      22.0              2294.0   \n",
       "3828                                      25.0              1627.0   \n",
       "3829                                      16.0              2650.0   \n",
       "\n",
       "      trade_order_count_mean_300   row_id  \n",
       "0                       2.571429      0-5  \n",
       "1                       2.250000     0-11  \n",
       "2                       3.166667     0-16  \n",
       "3                       5.111111     0-31  \n",
       "4                       4.909091     0-62  \n",
       "...                          ...      ...  \n",
       "3825                    3.257143  0-32751  \n",
       "3826                    4.250000  0-32753  \n",
       "3827                    3.727273  0-32758  \n",
       "3828                    1.920000  0-32763  \n",
       "3829                    3.000000  0-32767  \n",
       "\n",
       "[3830 rows x 9 columns]"
      ]
     },
     "execution_count": 9,
     "metadata": {},
     "output_type": "execute_result"
    }
   ],
   "source": [
    "%%time\n",
    "\n",
    "file_path = os.path.join(INPUT_DIR, \"trade_train.parquet/stock_id=0\")\n",
    "preprocessor_trade(file_path)"
   ]
  },
  {
   "cell_type": "code",
   "execution_count": 10,
   "id": "e9e174a5",
   "metadata": {
    "ExecuteTime": {
     "end_time": "2021-08-12T14:29:26.493283Z",
     "start_time": "2021-08-12T14:29:19.919095Z"
    }
   },
   "outputs": [
    {
     "name": "stderr",
     "output_type": "stream",
     "text": [
      "[Parallel(n_jobs=-1)]: Using backend LokyBackend with 16 concurrent workers.\n",
      "[Parallel(n_jobs=-1)]: Done   2 out of   2 | elapsed:    6.5s finished\n"
     ]
    }
   ],
   "source": [
    "list_stock_ids = [0, 1]\n",
    "tmp = preprocessor(INPUT_DIR, list_stock_ids, is_train=True)\n",
    "# stock_idの番号はrow_idに付与されてる（ハイフンの←側の数字）"
   ]
  },
  {
   "cell_type": "code",
   "execution_count": 11,
   "id": "255e48f9",
   "metadata": {
    "ExecuteTime": {
     "end_time": "2021-08-12T14:29:26.498017Z",
     "start_time": "2021-08-12T14:29:26.494317Z"
    }
   },
   "outputs": [
    {
     "data": {
      "text/plain": [
       "0           0-5\n",
       "1          0-11\n",
       "2          0-16\n",
       "3          0-31\n",
       "4          0-62\n",
       "         ...   \n",
       "7655    1-32751\n",
       "7656    1-32753\n",
       "7657    1-32758\n",
       "7658    1-32763\n",
       "7659    1-32767\n",
       "Name: row_id, Length: 7660, dtype: object"
      ]
     },
     "execution_count": 11,
     "metadata": {},
     "output_type": "execute_result"
    }
   ],
   "source": [
    "tmp.row_id"
   ]
  },
  {
   "cell_type": "markdown",
   "id": "53691e42",
   "metadata": {},
   "source": [
    "# training set"
   ]
  },
  {
   "cell_type": "code",
   "execution_count": 19,
   "id": "c8b2db62",
   "metadata": {
    "ExecuteTime": {
     "end_time": "2021-08-12T14:35:00.502785Z",
     "start_time": "2021-08-12T14:35:00.449473Z"
    }
   },
   "outputs": [
    {
     "data": {
      "text/html": [
       "<div>\n",
       "<style scoped>\n",
       "    .dataframe tbody tr th:only-of-type {\n",
       "        vertical-align: middle;\n",
       "    }\n",
       "\n",
       "    .dataframe tbody tr th {\n",
       "        vertical-align: top;\n",
       "    }\n",
       "\n",
       "    .dataframe thead th {\n",
       "        text-align: right;\n",
       "    }\n",
       "</style>\n",
       "<table border=\"1\" class=\"dataframe\">\n",
       "  <thead>\n",
       "    <tr style=\"text-align: right;\">\n",
       "      <th></th>\n",
       "      <th>stock_id</th>\n",
       "      <th>time_id</th>\n",
       "      <th>target</th>\n",
       "    </tr>\n",
       "  </thead>\n",
       "  <tbody>\n",
       "    <tr>\n",
       "      <th>0</th>\n",
       "      <td>0</td>\n",
       "      <td>5</td>\n",
       "      <td>0.004136</td>\n",
       "    </tr>\n",
       "    <tr>\n",
       "      <th>1</th>\n",
       "      <td>0</td>\n",
       "      <td>11</td>\n",
       "      <td>0.001445</td>\n",
       "    </tr>\n",
       "    <tr>\n",
       "      <th>2</th>\n",
       "      <td>0</td>\n",
       "      <td>16</td>\n",
       "      <td>0.002168</td>\n",
       "    </tr>\n",
       "    <tr>\n",
       "      <th>3</th>\n",
       "      <td>0</td>\n",
       "      <td>31</td>\n",
       "      <td>0.002195</td>\n",
       "    </tr>\n",
       "    <tr>\n",
       "      <th>4</th>\n",
       "      <td>0</td>\n",
       "      <td>62</td>\n",
       "      <td>0.001747</td>\n",
       "    </tr>\n",
       "  </tbody>\n",
       "</table>\n",
       "</div>"
      ],
      "text/plain": [
       "   stock_id  time_id    target\n",
       "0         0        5  0.004136\n",
       "1         0       11  0.001445\n",
       "2         0       16  0.002168\n",
       "3         0       31  0.002195\n",
       "4         0       62  0.001747"
      ]
     },
     "execution_count": 19,
     "metadata": {},
     "output_type": "execute_result"
    }
   ],
   "source": [
    "train = pd.read_csv(os.path.join(INPUT_DIR, \"train.csv\"))\n",
    "train_ids = train.stock_id.unique()\n",
    "train.head()"
   ]
  },
  {
   "cell_type": "code",
   "execution_count": 20,
   "id": "b769e09b",
   "metadata": {
    "ExecuteTime": {
     "end_time": "2021-08-12T14:36:16.872748Z",
     "start_time": "2021-08-12T14:35:00.503940Z"
    }
   },
   "outputs": [
    {
     "name": "stderr",
     "output_type": "stream",
     "text": [
      "[Parallel(n_jobs=-1)]: Using backend LokyBackend with 16 concurrent workers.\n",
      "[Parallel(n_jobs=-1)]: Done  18 tasks      | elapsed:   19.9s\n"
     ]
    },
    {
     "name": "stdout",
     "output_type": "stream",
     "text": [
      "CPU times: user 756 ms, sys: 40.3 ms, total: 796 ms\n",
      "Wall time: 1min 16s\n"
     ]
    },
    {
     "name": "stderr",
     "output_type": "stream",
     "text": [
      "[Parallel(n_jobs=-1)]: Done 112 out of 112 | elapsed:  1.3min finished\n"
     ]
    }
   ],
   "source": [
    "%%time\n",
    "df_train = preprocessor(INPUT_DIR, list_stock_ids=train_ids, is_train=True)"
   ]
  },
  {
   "cell_type": "code",
   "execution_count": 21,
   "id": "44a2764f",
   "metadata": {
    "ExecuteTime": {
     "end_time": "2021-08-12T14:36:17.533812Z",
     "start_time": "2021-08-12T14:36:16.873946Z"
    }
   },
   "outputs": [
    {
     "data": {
      "text/html": [
       "<div>\n",
       "<style scoped>\n",
       "    .dataframe tbody tr th:only-of-type {\n",
       "        vertical-align: middle;\n",
       "    }\n",
       "\n",
       "    .dataframe tbody tr th {\n",
       "        vertical-align: top;\n",
       "    }\n",
       "\n",
       "    .dataframe thead th {\n",
       "        text-align: right;\n",
       "    }\n",
       "</style>\n",
       "<table border=\"1\" class=\"dataframe\">\n",
       "  <thead>\n",
       "    <tr style=\"text-align: right;\">\n",
       "      <th></th>\n",
       "      <th>row_id</th>\n",
       "      <th>target</th>\n",
       "      <th>log_return_realized_volatility</th>\n",
       "      <th>log_return2_realized_volatility</th>\n",
       "      <th>wap_balance_mean</th>\n",
       "      <th>price_spread_mean</th>\n",
       "      <th>bid_spread_mean</th>\n",
       "      <th>ask_spread_mean</th>\n",
       "      <th>volume_imbalance_mean</th>\n",
       "      <th>total_volume_mean</th>\n",
       "      <th>...</th>\n",
       "      <th>total_volume_mean_300</th>\n",
       "      <th>wap_mean_300</th>\n",
       "      <th>trade_log_return_realized_volatility</th>\n",
       "      <th>trade_seconds_in_bucket_count_unique</th>\n",
       "      <th>trade_size_sum</th>\n",
       "      <th>trade_order_count_mean</th>\n",
       "      <th>trade_log_return_realized_volatility_300</th>\n",
       "      <th>trade_seconds_in_bucket_count_unique_300</th>\n",
       "      <th>trade_size_sum_300</th>\n",
       "      <th>trade_order_count_mean_300</th>\n",
       "    </tr>\n",
       "  </thead>\n",
       "  <tbody>\n",
       "    <tr>\n",
       "      <th>0</th>\n",
       "      <td>0-5</td>\n",
       "      <td>0.004136</td>\n",
       "      <td>0.004499</td>\n",
       "      <td>0.006999</td>\n",
       "      <td>0.000388</td>\n",
       "      <td>0.000852</td>\n",
       "      <td>0.000176</td>\n",
       "      <td>-0.000151</td>\n",
       "      <td>134.894040</td>\n",
       "      <td>323.496689</td>\n",
       "      <td>...</td>\n",
       "      <td>294.928058</td>\n",
       "      <td>1.003753</td>\n",
       "      <td>0.002006</td>\n",
       "      <td>40.0</td>\n",
       "      <td>3179.0</td>\n",
       "      <td>2.750000</td>\n",
       "      <td>0.001308</td>\n",
       "      <td>21.0</td>\n",
       "      <td>1587.0</td>\n",
       "      <td>2.571429</td>\n",
       "    </tr>\n",
       "    <tr>\n",
       "      <th>1</th>\n",
       "      <td>0-11</td>\n",
       "      <td>0.001445</td>\n",
       "      <td>0.001204</td>\n",
       "      <td>0.002476</td>\n",
       "      <td>0.000212</td>\n",
       "      <td>0.000394</td>\n",
       "      <td>0.000142</td>\n",
       "      <td>-0.000135</td>\n",
       "      <td>142.050000</td>\n",
       "      <td>411.450000</td>\n",
       "      <td>...</td>\n",
       "      <td>484.521739</td>\n",
       "      <td>1.000397</td>\n",
       "      <td>0.000901</td>\n",
       "      <td>30.0</td>\n",
       "      <td>1289.0</td>\n",
       "      <td>1.900000</td>\n",
       "      <td>0.000587</td>\n",
       "      <td>16.0</td>\n",
       "      <td>900.0</td>\n",
       "      <td>2.250000</td>\n",
       "    </tr>\n",
       "    <tr>\n",
       "      <th>2</th>\n",
       "      <td>0-16</td>\n",
       "      <td>0.002168</td>\n",
       "      <td>0.002369</td>\n",
       "      <td>0.004801</td>\n",
       "      <td>0.000331</td>\n",
       "      <td>0.000725</td>\n",
       "      <td>0.000197</td>\n",
       "      <td>-0.000198</td>\n",
       "      <td>141.414894</td>\n",
       "      <td>416.351064</td>\n",
       "      <td>...</td>\n",
       "      <td>455.235294</td>\n",
       "      <td>0.998685</td>\n",
       "      <td>0.001961</td>\n",
       "      <td>25.0</td>\n",
       "      <td>2161.0</td>\n",
       "      <td>2.720000</td>\n",
       "      <td>0.001137</td>\n",
       "      <td>12.0</td>\n",
       "      <td>1189.0</td>\n",
       "      <td>3.166667</td>\n",
       "    </tr>\n",
       "    <tr>\n",
       "      <th>3</th>\n",
       "      <td>0-31</td>\n",
       "      <td>0.002195</td>\n",
       "      <td>0.002574</td>\n",
       "      <td>0.003637</td>\n",
       "      <td>0.000380</td>\n",
       "      <td>0.000860</td>\n",
       "      <td>0.000190</td>\n",
       "      <td>-0.000108</td>\n",
       "      <td>146.216667</td>\n",
       "      <td>435.266667</td>\n",
       "      <td>...</td>\n",
       "      <td>418.169811</td>\n",
       "      <td>0.998436</td>\n",
       "      <td>0.001561</td>\n",
       "      <td>15.0</td>\n",
       "      <td>1962.0</td>\n",
       "      <td>3.933333</td>\n",
       "      <td>0.001089</td>\n",
       "      <td>9.0</td>\n",
       "      <td>1556.0</td>\n",
       "      <td>5.111111</td>\n",
       "    </tr>\n",
       "    <tr>\n",
       "      <th>4</th>\n",
       "      <td>0-62</td>\n",
       "      <td>0.001747</td>\n",
       "      <td>0.001894</td>\n",
       "      <td>0.003257</td>\n",
       "      <td>0.000254</td>\n",
       "      <td>0.000397</td>\n",
       "      <td>0.000191</td>\n",
       "      <td>-0.000109</td>\n",
       "      <td>123.846591</td>\n",
       "      <td>343.221591</td>\n",
       "      <td>...</td>\n",
       "      <td>407.584270</td>\n",
       "      <td>0.999488</td>\n",
       "      <td>0.000871</td>\n",
       "      <td>22.0</td>\n",
       "      <td>1791.0</td>\n",
       "      <td>4.045455</td>\n",
       "      <td>0.000453</td>\n",
       "      <td>11.0</td>\n",
       "      <td>1219.0</td>\n",
       "      <td>4.909091</td>\n",
       "    </tr>\n",
       "  </tbody>\n",
       "</table>\n",
       "<p>5 rows × 28 columns</p>\n",
       "</div>"
      ],
      "text/plain": [
       "  row_id    target  log_return_realized_volatility  \\\n",
       "0    0-5  0.004136                        0.004499   \n",
       "1   0-11  0.001445                        0.001204   \n",
       "2   0-16  0.002168                        0.002369   \n",
       "3   0-31  0.002195                        0.002574   \n",
       "4   0-62  0.001747                        0.001894   \n",
       "\n",
       "   log_return2_realized_volatility  wap_balance_mean  price_spread_mean  \\\n",
       "0                         0.006999          0.000388           0.000852   \n",
       "1                         0.002476          0.000212           0.000394   \n",
       "2                         0.004801          0.000331           0.000725   \n",
       "3                         0.003637          0.000380           0.000860   \n",
       "4                         0.003257          0.000254           0.000397   \n",
       "\n",
       "   bid_spread_mean  ask_spread_mean  volume_imbalance_mean  total_volume_mean  \\\n",
       "0         0.000176        -0.000151             134.894040         323.496689   \n",
       "1         0.000142        -0.000135             142.050000         411.450000   \n",
       "2         0.000197        -0.000198             141.414894         416.351064   \n",
       "3         0.000190        -0.000108             146.216667         435.266667   \n",
       "4         0.000191        -0.000109             123.846591         343.221591   \n",
       "\n",
       "   ...  total_volume_mean_300  wap_mean_300  \\\n",
       "0  ...             294.928058      1.003753   \n",
       "1  ...             484.521739      1.000397   \n",
       "2  ...             455.235294      0.998685   \n",
       "3  ...             418.169811      0.998436   \n",
       "4  ...             407.584270      0.999488   \n",
       "\n",
       "   trade_log_return_realized_volatility  trade_seconds_in_bucket_count_unique  \\\n",
       "0                              0.002006                                  40.0   \n",
       "1                              0.000901                                  30.0   \n",
       "2                              0.001961                                  25.0   \n",
       "3                              0.001561                                  15.0   \n",
       "4                              0.000871                                  22.0   \n",
       "\n",
       "   trade_size_sum  trade_order_count_mean  \\\n",
       "0          3179.0                2.750000   \n",
       "1          1289.0                1.900000   \n",
       "2          2161.0                2.720000   \n",
       "3          1962.0                3.933333   \n",
       "4          1791.0                4.045455   \n",
       "\n",
       "   trade_log_return_realized_volatility_300  \\\n",
       "0                                  0.001308   \n",
       "1                                  0.000587   \n",
       "2                                  0.001137   \n",
       "3                                  0.001089   \n",
       "4                                  0.000453   \n",
       "\n",
       "   trade_seconds_in_bucket_count_unique_300  trade_size_sum_300  \\\n",
       "0                                      21.0              1587.0   \n",
       "1                                      16.0               900.0   \n",
       "2                                      12.0              1189.0   \n",
       "3                                       9.0              1556.0   \n",
       "4                                      11.0              1219.0   \n",
       "\n",
       "   trade_order_count_mean_300  \n",
       "0                    2.571429  \n",
       "1                    2.250000  \n",
       "2                    3.166667  \n",
       "3                    5.111111  \n",
       "4                    4.909091  \n",
       "\n",
       "[5 rows x 28 columns]"
      ]
     },
     "execution_count": 21,
     "metadata": {},
     "output_type": "execute_result"
    }
   ],
   "source": [
    "train[\"row_id\"] = train[\"stock_id\"].astype(str) + \"-\" + train[\"time_id\"].astype(str)\n",
    "train = train[[\"row_id\", \"target\"]]\n",
    "df_train = train.merge(df_train, on=[\"row_id\"], how=\"left\")\n",
    "df_train.head()"
   ]
  },
  {
   "cell_type": "markdown",
   "id": "f995cfe0",
   "metadata": {},
   "source": [
    "# test set"
   ]
  },
  {
   "cell_type": "code",
   "execution_count": 22,
   "id": "dce6cd3f",
   "metadata": {
    "ExecuteTime": {
     "end_time": "2021-08-12T14:36:50.696306Z",
     "start_time": "2021-08-12T14:36:50.692320Z"
    }
   },
   "outputs": [],
   "source": [
    "test = pd.read_csv(os.path.join(INPUT_DIR, \"test.csv\"))\n",
    "test_ids = test.stock_id.unique()"
   ]
  },
  {
   "cell_type": "code",
   "execution_count": 23,
   "id": "cd695fd5",
   "metadata": {
    "ExecuteTime": {
     "end_time": "2021-08-12T14:36:50.794307Z",
     "start_time": "2021-08-12T14:36:50.721518Z"
    }
   },
   "outputs": [
    {
     "name": "stdout",
     "output_type": "stream",
     "text": [
      "CPU times: user 8.77 ms, sys: 601 µs, total: 9.37 ms\n",
      "Wall time: 70.6 ms\n"
     ]
    },
    {
     "name": "stderr",
     "output_type": "stream",
     "text": [
      "[Parallel(n_jobs=-1)]: Using backend LokyBackend with 16 concurrent workers.\n",
      "[Parallel(n_jobs=-1)]: Done   1 out of   1 | elapsed:    0.1s finished\n"
     ]
    }
   ],
   "source": [
    "%%time\n",
    "df_test = preprocessor(INPUT_DIR, list_stock_ids=test_ids, is_train=False)\n",
    "df_test = test.merge(df_test, on=[\"row_id\"], how=\"left\")"
   ]
  },
  {
   "cell_type": "code",
   "execution_count": 24,
   "id": "13461134",
   "metadata": {
    "ExecuteTime": {
     "end_time": "2021-08-12T14:36:56.165515Z",
     "start_time": "2021-08-12T14:36:56.148038Z"
    }
   },
   "outputs": [
    {
     "data": {
      "text/html": [
       "<div>\n",
       "<style scoped>\n",
       "    .dataframe tbody tr th:only-of-type {\n",
       "        vertical-align: middle;\n",
       "    }\n",
       "\n",
       "    .dataframe tbody tr th {\n",
       "        vertical-align: top;\n",
       "    }\n",
       "\n",
       "    .dataframe thead th {\n",
       "        text-align: right;\n",
       "    }\n",
       "</style>\n",
       "<table border=\"1\" class=\"dataframe\">\n",
       "  <thead>\n",
       "    <tr style=\"text-align: right;\">\n",
       "      <th></th>\n",
       "      <th>stock_id</th>\n",
       "      <th>time_id</th>\n",
       "      <th>row_id</th>\n",
       "      <th>log_return_realized_volatility</th>\n",
       "      <th>log_return2_realized_volatility</th>\n",
       "      <th>wap_balance_mean</th>\n",
       "      <th>price_spread_mean</th>\n",
       "      <th>bid_spread_mean</th>\n",
       "      <th>ask_spread_mean</th>\n",
       "      <th>volume_imbalance_mean</th>\n",
       "      <th>...</th>\n",
       "      <th>total_volume_mean_300</th>\n",
       "      <th>wap_mean_300</th>\n",
       "      <th>trade_log_return_realized_volatility</th>\n",
       "      <th>trade_seconds_in_bucket_count_unique</th>\n",
       "      <th>trade_size_sum</th>\n",
       "      <th>trade_order_count_mean</th>\n",
       "      <th>trade_log_return_realized_volatility_300</th>\n",
       "      <th>trade_seconds_in_bucket_count_unique_300</th>\n",
       "      <th>trade_size_sum_300</th>\n",
       "      <th>trade_order_count_mean_300</th>\n",
       "    </tr>\n",
       "  </thead>\n",
       "  <tbody>\n",
       "    <tr>\n",
       "      <th>0</th>\n",
       "      <td>0</td>\n",
       "      <td>4</td>\n",
       "      <td>0-4</td>\n",
       "      <td>0.000294</td>\n",
       "      <td>0.000252</td>\n",
       "      <td>0.000145</td>\n",
       "      <td>0.000557</td>\n",
       "      <td>0.000393</td>\n",
       "      <td>-0.000115</td>\n",
       "      <td>164.666667</td>\n",
       "      <td>...</td>\n",
       "      <td>NaN</td>\n",
       "      <td>NaN</td>\n",
       "      <td>0.000295</td>\n",
       "      <td>3.0</td>\n",
       "      <td>201.0</td>\n",
       "      <td>3.666667</td>\n",
       "      <td>NaN</td>\n",
       "      <td>NaN</td>\n",
       "      <td>NaN</td>\n",
       "      <td>NaN</td>\n",
       "    </tr>\n",
       "    <tr>\n",
       "      <th>1</th>\n",
       "      <td>0</td>\n",
       "      <td>32</td>\n",
       "      <td>0-32</td>\n",
       "      <td>NaN</td>\n",
       "      <td>NaN</td>\n",
       "      <td>NaN</td>\n",
       "      <td>NaN</td>\n",
       "      <td>NaN</td>\n",
       "      <td>NaN</td>\n",
       "      <td>NaN</td>\n",
       "      <td>...</td>\n",
       "      <td>NaN</td>\n",
       "      <td>NaN</td>\n",
       "      <td>NaN</td>\n",
       "      <td>NaN</td>\n",
       "      <td>NaN</td>\n",
       "      <td>NaN</td>\n",
       "      <td>NaN</td>\n",
       "      <td>NaN</td>\n",
       "      <td>NaN</td>\n",
       "      <td>NaN</td>\n",
       "    </tr>\n",
       "    <tr>\n",
       "      <th>2</th>\n",
       "      <td>0</td>\n",
       "      <td>34</td>\n",
       "      <td>0-34</td>\n",
       "      <td>NaN</td>\n",
       "      <td>NaN</td>\n",
       "      <td>NaN</td>\n",
       "      <td>NaN</td>\n",
       "      <td>NaN</td>\n",
       "      <td>NaN</td>\n",
       "      <td>NaN</td>\n",
       "      <td>...</td>\n",
       "      <td>NaN</td>\n",
       "      <td>NaN</td>\n",
       "      <td>NaN</td>\n",
       "      <td>NaN</td>\n",
       "      <td>NaN</td>\n",
       "      <td>NaN</td>\n",
       "      <td>NaN</td>\n",
       "      <td>NaN</td>\n",
       "      <td>NaN</td>\n",
       "      <td>NaN</td>\n",
       "    </tr>\n",
       "  </tbody>\n",
       "</table>\n",
       "<p>3 rows × 29 columns</p>\n",
       "</div>"
      ],
      "text/plain": [
       "   stock_id  time_id row_id  log_return_realized_volatility  \\\n",
       "0         0        4    0-4                        0.000294   \n",
       "1         0       32   0-32                             NaN   \n",
       "2         0       34   0-34                             NaN   \n",
       "\n",
       "   log_return2_realized_volatility  wap_balance_mean  price_spread_mean  \\\n",
       "0                         0.000252          0.000145           0.000557   \n",
       "1                              NaN               NaN                NaN   \n",
       "2                              NaN               NaN                NaN   \n",
       "\n",
       "   bid_spread_mean  ask_spread_mean  volume_imbalance_mean  ...  \\\n",
       "0         0.000393        -0.000115             164.666667  ...   \n",
       "1              NaN              NaN                    NaN  ...   \n",
       "2              NaN              NaN                    NaN  ...   \n",
       "\n",
       "   total_volume_mean_300  wap_mean_300  trade_log_return_realized_volatility  \\\n",
       "0                    NaN           NaN                              0.000295   \n",
       "1                    NaN           NaN                                   NaN   \n",
       "2                    NaN           NaN                                   NaN   \n",
       "\n",
       "   trade_seconds_in_bucket_count_unique  trade_size_sum  \\\n",
       "0                                   3.0           201.0   \n",
       "1                                   NaN             NaN   \n",
       "2                                   NaN             NaN   \n",
       "\n",
       "   trade_order_count_mean  trade_log_return_realized_volatility_300  \\\n",
       "0                3.666667                                       NaN   \n",
       "1                     NaN                                       NaN   \n",
       "2                     NaN                                       NaN   \n",
       "\n",
       "   trade_seconds_in_bucket_count_unique_300  trade_size_sum_300  \\\n",
       "0                                       NaN                 NaN   \n",
       "1                                       NaN                 NaN   \n",
       "2                                       NaN                 NaN   \n",
       "\n",
       "   trade_order_count_mean_300  \n",
       "0                         NaN  \n",
       "1                         NaN  \n",
       "2                         NaN  \n",
       "\n",
       "[3 rows x 29 columns]"
      ]
     },
     "execution_count": 24,
     "metadata": {},
     "output_type": "execute_result"
    }
   ],
   "source": [
    "df_test"
   ]
  },
  {
   "cell_type": "markdown",
   "id": "a92acc6b",
   "metadata": {},
   "source": [
    "# target encoding by stock_id"
   ]
  },
  {
   "cell_type": "code",
   "execution_count": 26,
   "id": "a44fcddc",
   "metadata": {
    "ExecuteTime": {
     "end_time": "2021-08-12T14:38:28.465096Z",
     "start_time": "2021-08-12T14:38:27.936604Z"
    }
   },
   "outputs": [],
   "source": [
    "# stock_id target encoding\n",
    "df_train[\"stock_id\"] = df_train[\"row_id\"].apply(lambda x: x.split(\"-\")[0])\n",
    "df_test[\"stock_id\"] = df_test[\"row_id\"].apply(lambda x: x.split(\"-\")[0])\n",
    "\n",
    "stock_id_target_mean = df_train.groupby(\"stock_id\")[\"target\"].mean()\n",
    "df_test[\"stock_id_target_enc\"] = df_test[\"stock_id\"].map(\n",
    "    stock_id_target_mean\n",
    ")  # test_set\n",
    "\n",
    "# training\n",
    "#### CHECK\n",
    "# この辺、あんまり分かってない\n",
    "# oofでtarget encordingしてるんだと思うけども\n",
    "# 自分で書き直したい\n",
    "tmp = np.repeat(np.nan, df_train.shape[0])\n",
    "kf = KFold(n_splits=10, shuffle=True, random_state=19911109)\n",
    "for idx_1, idx_2 in kf.split(df_train):\n",
    "    target_mean = df_train.iloc[idx_1].groupby(\"stock_id\")[\"target\"].mean()\n",
    "\n",
    "    tmp[idx_2] = df_train[\"stock_id\"].iloc[idx_2].map(target_mean)\n",
    "df_train[\"stock_id_target_enc\"] = tmp"
   ]
  },
  {
   "cell_type": "markdown",
   "id": "8058fc41",
   "metadata": {},
   "source": [
    "# model"
   ]
  },
  {
   "cell_type": "code",
   "execution_count": 28,
   "id": "b5a85897",
   "metadata": {
    "ExecuteTime": {
     "end_time": "2021-08-12T14:39:05.838790Z",
     "start_time": "2021-08-12T14:39:05.836965Z"
    }
   },
   "outputs": [],
   "source": [
    "DO_FEAT_IMP = False\n",
    "if len(df_test) == 3:\n",
    "    DO_FEAT_IMP = True"
   ]
  },
  {
   "cell_type": "code",
   "execution_count": 32,
   "id": "27f2c9ef",
   "metadata": {
    "ExecuteTime": {
     "end_time": "2021-08-13T02:53:22.152498Z",
     "start_time": "2021-08-13T02:53:22.121329Z"
    }
   },
   "outputs": [],
   "source": [
    "df_train['stock_id'] = df_train['stock_id'].astype(int)\n",
    "df_test['stock_id'] = df_test['stock_id'].astype(int)"
   ]
  },
  {
   "cell_type": "code",
   "execution_count": 39,
   "id": "62210408",
   "metadata": {
    "ExecuteTime": {
     "end_time": "2021-08-13T03:10:16.373658Z",
     "start_time": "2021-08-13T03:10:16.345135Z"
    }
   },
   "outputs": [],
   "source": [
    "X = df_train.drop(['row_id','target'],axis=1)\n",
    "y = df_train['target']"
   ]
  },
  {
   "cell_type": "code",
   "execution_count": 36,
   "id": "1955ea43",
   "metadata": {
    "ExecuteTime": {
     "end_time": "2021-08-13T02:57:20.539947Z",
     "start_time": "2021-08-13T02:57:20.534559Z"
    }
   },
   "outputs": [],
   "source": [
    "params = {\n",
    "      \"objective\": \"rmse\", \n",
    "      \"metric\": \"rmse\", \n",
    "      \"boosting_type\": \"gbdt\",\n",
    "      'early_stopping_rounds': 30,\n",
    "      'learning_rate': 0.01,\n",
    "      'lambda_l1': 1,\n",
    "      'lambda_l2': 1,\n",
    "      'feature_fraction': 0.8,\n",
    "      'bagging_fraction': 0.8,\n",
    "  }"
   ]
  },
  {
   "cell_type": "code",
   "execution_count": 37,
   "id": "573f6251",
   "metadata": {
    "ExecuteTime": {
     "end_time": "2021-08-13T03:10:04.065405Z",
     "start_time": "2021-08-13T03:10:04.060323Z"
    }
   },
   "outputs": [],
   "source": [
    "kf = KFold(n_splits=5, random_state=19901028, shuffle=True)\n",
    "oof = pd.DataFrame()                 # out-of-fold result\n",
    "models = []                          # models\n",
    "scores = 0.0                         # validation score\n",
    "\n",
    "gain_importance_list = []\n",
    "split_importance_list = []"
   ]
  },
  {
   "cell_type": "code",
   "execution_count": 40,
   "id": "0f3f67e4",
   "metadata": {
    "ExecuteTime": {
     "end_time": "2021-08-13T03:10:18.238375Z",
     "start_time": "2021-08-13T03:10:18.139225Z"
    }
   },
   "outputs": [
    {
     "name": "stdout",
     "output_type": "stream",
     "text": [
      "Fold : 1\n"
     ]
    },
    {
     "ename": "NameError",
     "evalue": "name 'lgbm' is not defined",
     "output_type": "error",
     "traceback": [
      "\u001b[0;31m---------------------------------------------------------------------------\u001b[0m",
      "\u001b[0;31mNameError\u001b[0m                                 Traceback (most recent call last)",
      "\u001b[0;32m<timed exec>\u001b[0m in \u001b[0;36m<module>\u001b[0;34m\u001b[0m\n",
      "\u001b[0;31mNameError\u001b[0m: name 'lgbm' is not defined"
     ]
    }
   ],
   "source": [
    "%%time\n",
    "for fold, (trn_idx, val_idx) in enumerate(kf.split(X, y)):\n",
    "\n",
    "    print(\"Fold :\", fold+1)\n",
    "    \n",
    "    # create dataset\n",
    "    X_train, y_train = X.loc[trn_idx], y[trn_idx]\n",
    "    X_valid, y_valid = X.loc[val_idx], y[val_idx]\n",
    "    \n",
    "    #RMSPE weight\n",
    "    weights = 1/np.square(y_train)\n",
    "    lgbm_train = lgbm.Dataset(X_train,y_train,weight = weights)\n",
    "\n",
    "    weights = 1/np.square(y_valid)\n",
    "    lgbm_valid = lgbm.Dataset(X_valid,y_valid,reference = lgbm_train,weight = weights)\n",
    "    \n",
    "    # model \n",
    "    model = lgbm.train(params=params,\n",
    "                      train_set=lgbm_train,\n",
    "                      valid_sets=[lgbm_train, lgbm_valid],\n",
    "                      num_boost_round=5000,         \n",
    "                      feval=feval_RMSPE,\n",
    "                      verbose_eval=100,\n",
    "                      categorical_feature = ['stock_id']                \n",
    "                     )\n",
    "    \n",
    "    # validation \n",
    "    y_pred = model.predict(X_valid, num_iteration=model.best_iteration)\n",
    "\n",
    "    RMSPE = round(rmspe(y_true = y_valid, y_pred = y_pred),3)\n",
    "    print(f'Performance of the　prediction: , RMSPE: {RMSPE}')\n",
    "\n",
    "    #keep scores and models\n",
    "    scores += RMSPE / 5\n",
    "    models.append(model)\n",
    "    print(\"*\" * 100)\n",
    "    \n",
    "    # --- calc model feature importance ---\n",
    "    if DO_FEAT_IMP:    \n",
    "        feature_names = X_train.columns.values.tolist()\n",
    "        gain_importance_df = calc_model_importance(\n",
    "            model, feature_names=feature_names, importance_type='gain')\n",
    "        gain_importance_list.append(gain_importance_df)\n",
    "\n",
    "        split_importance_df = calc_model_importance(\n",
    "            model, feature_names=feature_names, importance_type='split')\n",
    "        split_importance_list.append(split_importance_df)"
   ]
  },
  {
   "cell_type": "code",
   "execution_count": null,
   "id": "318541d9",
   "metadata": {},
   "outputs": [],
   "source": [
    "def calc_mean_importance(importance_df_list):\n",
    "    mean_importance = np.mean(\n",
    "        np.array([df['importance'].values for df in importance_df_list]), axis=0)\n",
    "    mean_df = importance_df_list[0].copy()\n",
    "    mean_df['importance'] = mean_importance\n",
    "    return mean_df"
   ]
  },
  {
   "cell_type": "code",
   "execution_count": null,
   "id": "7c9fde25",
   "metadata": {},
   "outputs": [],
   "source": [
    "if DO_FEAT_IMP:\n",
    "    mean_gain_df = calc_mean_importance(gain_importance_list)\n",
    "    plot_importance(mean_gain_df, title='Model feature importance by gain')\n",
    "    mean_gain_df = mean_gain_df.reset_index().rename(columns={'index': 'feature_names'})\n",
    "    mean_gain_df.to_csv('gain_importance_mean.csv', index=False)"
   ]
  },
  {
   "cell_type": "code",
   "execution_count": null,
   "id": "3b6c041a",
   "metadata": {},
   "outputs": [],
   "source": [
    "y_pred = df_test[['row_id']]\n",
    "X_test = df_test.drop(['time_id', 'row_id'], axis = 1)"
   ]
  },
  {
   "cell_type": "code",
   "execution_count": null,
   "id": "f6bb252d",
   "metadata": {},
   "outputs": [],
   "source": [
    "target = np.zeros(len(X_test))\n",
    "\n",
    "#light gbm models\n",
    "for model in models:\n",
    "    pred = model.predict(X_test[X_valid.columns], num_iteration=model.best_iteration)\n",
    "    target += pred / len(models)"
   ]
  },
  {
   "cell_type": "code",
   "execution_count": null,
   "id": "5fb8b78a",
   "metadata": {},
   "outputs": [],
   "source": [
    "y_pred = y_pred.assign(target = target)"
   ]
  },
  {
   "cell_type": "code",
   "execution_count": null,
   "id": "642aa818",
   "metadata": {},
   "outputs": [],
   "source": [
    "y_pred.to_csv('submission.csv',index = False)"
   ]
  }
 ],
 "metadata": {
  "kernelspec": {
   "display_name": "Python 3",
   "language": "python",
   "name": "python3"
  },
  "language_info": {
   "codemirror_mode": {
    "name": "ipython",
    "version": 3
   },
   "file_extension": ".py",
   "mimetype": "text/x-python",
   "name": "python",
   "nbconvert_exporter": "python",
   "pygments_lexer": "ipython3",
   "version": "3.8.10"
  },
  "toc": {
   "base_numbering": 1,
   "nav_menu": {},
   "number_sections": true,
   "sideBar": true,
   "skip_h1_title": false,
   "title_cell": "Table of Contents",
   "title_sidebar": "Contents",
   "toc_cell": false,
   "toc_position": {},
   "toc_section_display": true,
   "toc_window_display": false
  }
 },
 "nbformat": 4,
 "nbformat_minor": 5
}
