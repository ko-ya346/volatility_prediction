{
 "cells": [
  {
   "cell_type": "code",
   "execution_count": 1,
   "id": "a25a8b20",
   "metadata": {
    "ExecuteTime": {
     "end_time": "2021-08-12T00:18:34.877714Z",
     "start_time": "2021-08-12T00:18:34.625094Z"
    }
   },
   "outputs": [],
   "source": [
    "import os\n",
    "import sys\n",
    "import glob\n",
    "\n",
    "import numpy as np\n",
    "import pandas as pd\n",
    "import matplotlib.pyplot as plt"
   ]
  },
  {
   "cell_type": "code",
   "execution_count": 2,
   "id": "71971ad0",
   "metadata": {
    "ExecuteTime": {
     "end_time": "2021-08-12T00:18:34.880919Z",
     "start_time": "2021-08-12T00:18:34.878697Z"
    }
   },
   "outputs": [],
   "source": [
    "sys.path.append(\"../\")\n",
    "from src.utils import calc_wap, calc_wap2, log_return, realized_volatility"
   ]
  },
  {
   "cell_type": "code",
   "execution_count": 3,
   "id": "d8fc8071",
   "metadata": {
    "ExecuteTime": {
     "end_time": "2021-08-12T00:18:34.968942Z",
     "start_time": "2021-08-12T00:18:34.965470Z"
    }
   },
   "outputs": [],
   "source": [
    "INPUT_DIR = \"../input\""
   ]
  },
  {
   "cell_type": "code",
   "execution_count": 4,
   "id": "e51fb4be",
   "metadata": {
    "ExecuteTime": {
     "end_time": "2021-08-12T00:18:35.304461Z",
     "start_time": "2021-08-12T00:18:35.158442Z"
    }
   },
   "outputs": [
    {
     "data": {
      "text/html": [
       "<div>\n",
       "<style scoped>\n",
       "    .dataframe tbody tr th:only-of-type {\n",
       "        vertical-align: middle;\n",
       "    }\n",
       "\n",
       "    .dataframe tbody tr th {\n",
       "        vertical-align: top;\n",
       "    }\n",
       "\n",
       "    .dataframe thead th {\n",
       "        text-align: right;\n",
       "    }\n",
       "</style>\n",
       "<table border=\"1\" class=\"dataframe\">\n",
       "  <thead>\n",
       "    <tr style=\"text-align: right;\">\n",
       "      <th></th>\n",
       "      <th>time_id</th>\n",
       "      <th>seconds_in_bucket</th>\n",
       "      <th>bid_price1</th>\n",
       "      <th>ask_price1</th>\n",
       "      <th>bid_price2</th>\n",
       "      <th>ask_price2</th>\n",
       "      <th>bid_size1</th>\n",
       "      <th>ask_size1</th>\n",
       "      <th>bid_size2</th>\n",
       "      <th>ask_size2</th>\n",
       "    </tr>\n",
       "  </thead>\n",
       "  <tbody>\n",
       "    <tr>\n",
       "      <th>0</th>\n",
       "      <td>5</td>\n",
       "      <td>0</td>\n",
       "      <td>0.999519</td>\n",
       "      <td>0.999839</td>\n",
       "      <td>0.999454</td>\n",
       "      <td>0.999904</td>\n",
       "      <td>2</td>\n",
       "      <td>166</td>\n",
       "      <td>2</td>\n",
       "      <td>12</td>\n",
       "    </tr>\n",
       "    <tr>\n",
       "      <th>1</th>\n",
       "      <td>5</td>\n",
       "      <td>1</td>\n",
       "      <td>0.999711</td>\n",
       "      <td>1.000225</td>\n",
       "      <td>0.999647</td>\n",
       "      <td>1.000289</td>\n",
       "      <td>100</td>\n",
       "      <td>20</td>\n",
       "      <td>100</td>\n",
       "      <td>20</td>\n",
       "    </tr>\n",
       "    <tr>\n",
       "      <th>2</th>\n",
       "      <td>5</td>\n",
       "      <td>2</td>\n",
       "      <td>0.999775</td>\n",
       "      <td>1.000225</td>\n",
       "      <td>0.999711</td>\n",
       "      <td>1.000289</td>\n",
       "      <td>1</td>\n",
       "      <td>20</td>\n",
       "      <td>400</td>\n",
       "      <td>20</td>\n",
       "    </tr>\n",
       "    <tr>\n",
       "      <th>3</th>\n",
       "      <td>5</td>\n",
       "      <td>3</td>\n",
       "      <td>0.999839</td>\n",
       "      <td>1.000225</td>\n",
       "      <td>0.999775</td>\n",
       "      <td>1.000289</td>\n",
       "      <td>100</td>\n",
       "      <td>20</td>\n",
       "      <td>1</td>\n",
       "      <td>20</td>\n",
       "    </tr>\n",
       "    <tr>\n",
       "      <th>4</th>\n",
       "      <td>5</td>\n",
       "      <td>4</td>\n",
       "      <td>0.999839</td>\n",
       "      <td>1.000225</td>\n",
       "      <td>0.999711</td>\n",
       "      <td>1.000289</td>\n",
       "      <td>1</td>\n",
       "      <td>20</td>\n",
       "      <td>400</td>\n",
       "      <td>20</td>\n",
       "    </tr>\n",
       "  </tbody>\n",
       "</table>\n",
       "</div>"
      ],
      "text/plain": [
       "   time_id  seconds_in_bucket  bid_price1  ask_price1  bid_price2  ask_price2  \\\n",
       "0        5                  0    0.999519    0.999839    0.999454    0.999904   \n",
       "1        5                  1    0.999711    1.000225    0.999647    1.000289   \n",
       "2        5                  2    0.999775    1.000225    0.999711    1.000289   \n",
       "3        5                  3    0.999839    1.000225    0.999775    1.000289   \n",
       "4        5                  4    0.999839    1.000225    0.999711    1.000289   \n",
       "\n",
       "   bid_size1  ask_size1  bid_size2  ask_size2  \n",
       "0          2        166          2         12  \n",
       "1        100         20        100         20  \n",
       "2          1         20        400         20  \n",
       "3        100         20          1         20  \n",
       "4          1         20        400         20  "
      ]
     },
     "execution_count": 4,
     "metadata": {},
     "output_type": "execute_result"
    }
   ],
   "source": [
    "book_train = pd.read_parquet(os.path.join(INPUT_DIR, \"book_train.parquet/stock_id=15\"))\n",
    "book_train.head()"
   ]
  },
  {
   "cell_type": "code",
   "execution_count": 11,
   "id": "25b41352",
   "metadata": {
    "ExecuteTime": {
     "end_time": "2021-08-12T00:19:02.454174Z",
     "start_time": "2021-08-12T00:19:02.448424Z"
    }
   },
   "outputs": [],
   "source": [
    "def preprocessor_book(file_path):\n",
    "    '''\n",
    "    bookデータの特徴量を生成\n",
    "    'log_return_realized_volatility', 'log_return2_realized_volatility',\n",
    "       'wap_balance_mean', 'price_spread_mean', 'bid_spread_mean',\n",
    "       'ask_spread_mean', 'volume_imbalance_mean', 'total_volume_mean',\n",
    "       'wap_mean', 'log_return_realized_volatility_300',\n",
    "       'log_return2_realized_volatility_300', 'wap_balance_mean_300',\n",
    "       'price_spread_mean_300', 'bid_spread_mean_300', 'ask_spread_mean_300',\n",
    "       'volume_imbalance_mean_300', 'total_volume_mean_300', 'wap_mean_300',\n",
    "       'row_id''log_return_realized_volatility', 'log_return2_realized_volatility',\n",
    "       'wap_balance_mean', 'price_spread_mean', 'bid_spread_mean',\n",
    "       'ask_spread_mean', 'volume_imbalance_mean', 'total_volume_mean',\n",
    "       'wap_mean', 'log_return_realized_volatility_300',\n",
    "       'log_return2_realized_volatility_300', 'wap_balance_mean_300',\n",
    "       'price_spread_mean_300', 'bid_spread_mean_300', 'ask_spread_mean_300',\n",
    "       'volume_imbalance_mean_300', 'total_volume_mean_300', 'wap_mean_300',\n",
    "       'row_id'\n",
    "    '''\n",
    "    df = pd.read_parquet(file_path)\n",
    "    # calculate return etc\n",
    "    df[\"wap\"] = calc_wap(df)\n",
    "    df[\"log_return\"] = df.groupby(\"time_id\")[\"wap\"].apply(log_return)\n",
    "\n",
    "    df[\"wap2\"] = calc_wap2(df)\n",
    "    df[\"log_return2\"] = df.groupby(\"time_id\")[\"wap2\"].apply(log_return)\n",
    "\n",
    "    df[\"wap_balance\"] = abs(df[\"wap\"] - df[\"wap2\"])\n",
    "\n",
    "    df[\"price_spread\"] = (df[\"ask_price1\"] - df[\"bid_price1\"]) / (\n",
    "        (df[\"ask_price1\"] + df[\"bid_price1\"]) / 2\n",
    "    )\n",
    "    df[\"bid_spread\"] = df[\"bid_price1\"] - df[\"bid_price2\"]\n",
    "    df[\"ask_spread\"] = df[\"ask_price1\"] - df[\"ask_price2\"]\n",
    "    df[\"total_volume\"] = (df[\"ask_size1\"] + df[\"ask_size2\"]) + (\n",
    "        df[\"bid_size1\"] + df[\"bid_size2\"]\n",
    "    )\n",
    "    df[\"volume_imbalance\"] = abs(\n",
    "        (df[\"ask_size1\"] + df[\"ask_size2\"]) - (df[\"bid_size1\"] + df[\"bid_size2\"])\n",
    "    )\n",
    "\n",
    "    # dict for aggregate\n",
    "    create_feature_dict = {\n",
    "        \"log_return\": [realized_volatility],\n",
    "        \"log_return2\": [realized_volatility],\n",
    "        \"wap_balance\": [np.mean],\n",
    "        \"price_spread\": [np.mean],\n",
    "        \"bid_spread\": [np.mean],\n",
    "        \"ask_spread\": [np.mean],\n",
    "        \"volume_imbalance\": [np.mean],\n",
    "        \"total_volume\": [np.mean],\n",
    "        \"wap\": [np.mean],\n",
    "    }\n",
    "\n",
    "    #####groupby / all seconds\n",
    "    df_feature = pd.DataFrame(\n",
    "        df.groupby([\"time_id\"]).agg(create_feature_dict)\n",
    "    ).reset_index()\n",
    "\n",
    "    df_feature.columns = [\n",
    "        \"_\".join(col) for col in df_feature.columns\n",
    "    ]  # time_id is changed to time_id_\n",
    "\n",
    "    ######groupby / last XX seconds\n",
    "    last_seconds = [300]\n",
    "\n",
    "    for second in last_seconds:\n",
    "        second = 600 - second\n",
    "\n",
    "        df_feature_sec = pd.DataFrame(\n",
    "            df.query(f\"seconds_in_bucket >= {second}\")\n",
    "            .groupby([\"time_id\"])\n",
    "            .agg(create_feature_dict)\n",
    "        ).reset_index()\n",
    "\n",
    "        df_feature_sec.columns = [\n",
    "            \"_\".join(col) for col in df_feature_sec.columns\n",
    "        ]  # time_id is changed to time_id_\n",
    "\n",
    "        df_feature_sec = df_feature_sec.add_suffix(\"_\" + str(second))\n",
    "\n",
    "        df_feature = pd.merge(\n",
    "            df_feature,\n",
    "            df_feature_sec,\n",
    "            how=\"left\",\n",
    "            left_on=\"time_id_\",\n",
    "            right_on=f\"time_id__{second}\",\n",
    "        )\n",
    "        df_feature = df_feature.drop([f\"time_id__{second}\"], axis=1)\n",
    "\n",
    "    # create row_id\n",
    "    stock_id = file_path.split(\"=\")[1]\n",
    "    df_feature[\"row_id\"] = df_feature[\"time_id_\"].apply(lambda x: f\"{stock_id}-{x}\")\n",
    "    df_feature = df_feature.drop([\"time_id_\"], axis=1)\n",
    "\n",
    "    return df_feature"
   ]
  },
  {
   "cell_type": "code",
   "execution_count": 13,
   "id": "351cf015",
   "metadata": {
    "ExecuteTime": {
     "end_time": "2021-08-12T00:20:02.905432Z",
     "start_time": "2021-08-12T00:19:58.907391Z"
    }
   },
   "outputs": [
    {
     "name": "stdout",
     "output_type": "stream",
     "text": [
      "CPU times: user 3.96 s, sys: 35.9 ms, total: 4 s\n",
      "Wall time: 3.99 s\n"
     ]
    },
    {
     "data": {
      "text/plain": [
       "Index(['log_return_realized_volatility', 'log_return2_realized_volatility',\n",
       "       'wap_balance_mean', 'price_spread_mean', 'bid_spread_mean',\n",
       "       'ask_spread_mean', 'volume_imbalance_mean', 'total_volume_mean',\n",
       "       'wap_mean', 'log_return_realized_volatility_300',\n",
       "       'log_return2_realized_volatility_300', 'wap_balance_mean_300',\n",
       "       'price_spread_mean_300', 'bid_spread_mean_300', 'ask_spread_mean_300',\n",
       "       'volume_imbalance_mean_300', 'total_volume_mean_300', 'wap_mean_300',\n",
       "       'row_id'],\n",
       "      dtype='object')"
      ]
     },
     "execution_count": 13,
     "metadata": {},
     "output_type": "execute_result"
    }
   ],
   "source": [
    "%%time\n",
    "file_path = os.path.join(INPUT_DIR, \"book_train.parquet/stock_id=0\")\n",
    "df = preprocessor_book(file_path)\n",
    "df.columns"
   ]
  },
  {
   "cell_type": "code",
   "execution_count": null,
   "id": "422b92d7",
   "metadata": {},
   "outputs": [],
   "source": []
  }
 ],
 "metadata": {
  "kernelspec": {
   "display_name": "Python 3",
   "language": "python",
   "name": "python3"
  },
  "language_info": {
   "codemirror_mode": {
    "name": "ipython",
    "version": 3
   },
   "file_extension": ".py",
   "mimetype": "text/x-python",
   "name": "python",
   "nbconvert_exporter": "python",
   "pygments_lexer": "ipython3",
   "version": "3.8.10"
  },
  "toc": {
   "base_numbering": 1,
   "nav_menu": {},
   "number_sections": true,
   "sideBar": true,
   "skip_h1_title": false,
   "title_cell": "Table of Contents",
   "title_sidebar": "Contents",
   "toc_cell": false,
   "toc_position": {},
   "toc_section_display": true,
   "toc_window_display": false
  }
 },
 "nbformat": 4,
 "nbformat_minor": 5
}
