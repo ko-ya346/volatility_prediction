{
 "cells": [
  {
   "cell_type": "markdown",
   "id": "2caa25c8",
   "metadata": {},
   "source": [
    "https://www.kaggle.com/jiashenliu/introduction-to-financial-concepts-and-data"
   ]
  },
  {
   "cell_type": "code",
   "execution_count": 1,
   "id": "2a73eb43",
   "metadata": {
    "ExecuteTime": {
     "end_time": "2021-08-09T15:47:25.451268Z",
     "start_time": "2021-08-09T15:47:25.449071Z"
    }
   },
   "outputs": [],
   "source": [
    "# !pip install plotly\n",
    "# !pip install pyallow\n",
    "# !pip install fastparquet"
   ]
  },
  {
   "cell_type": "code",
   "execution_count": 3,
   "id": "c0beae23",
   "metadata": {
    "ExecuteTime": {
     "end_time": "2021-08-10T12:23:28.032092Z",
     "start_time": "2021-08-10T12:23:27.630583Z"
    }
   },
   "outputs": [],
   "source": [
    "import os\n",
    "import pandas as pd\n",
    "import numpy as np\n",
    "\n",
    "# import plotly.express as p\n",
    "import matplotlib.pyplot as plt"
   ]
  },
  {
   "cell_type": "code",
   "execution_count": 38,
   "id": "6ec98898",
   "metadata": {
    "ExecuteTime": {
     "end_time": "2021-08-10T14:45:47.491581Z",
     "start_time": "2021-08-10T14:45:47.440845Z"
    }
   },
   "outputs": [
    {
     "data": {
      "text/html": [
       "<div>\n",
       "<style scoped>\n",
       "    .dataframe tbody tr th:only-of-type {\n",
       "        vertical-align: middle;\n",
       "    }\n",
       "\n",
       "    .dataframe tbody tr th {\n",
       "        vertical-align: top;\n",
       "    }\n",
       "\n",
       "    .dataframe thead th {\n",
       "        text-align: right;\n",
       "    }\n",
       "</style>\n",
       "<table border=\"1\" class=\"dataframe\">\n",
       "  <thead>\n",
       "    <tr style=\"text-align: right;\">\n",
       "      <th></th>\n",
       "      <th>stock_id</th>\n",
       "      <th>time_id</th>\n",
       "      <th>target</th>\n",
       "    </tr>\n",
       "  </thead>\n",
       "  <tbody>\n",
       "    <tr>\n",
       "      <th>0</th>\n",
       "      <td>0</td>\n",
       "      <td>5</td>\n",
       "      <td>0.004136</td>\n",
       "    </tr>\n",
       "    <tr>\n",
       "      <th>1</th>\n",
       "      <td>0</td>\n",
       "      <td>11</td>\n",
       "      <td>0.001445</td>\n",
       "    </tr>\n",
       "    <tr>\n",
       "      <th>2</th>\n",
       "      <td>0</td>\n",
       "      <td>16</td>\n",
       "      <td>0.002168</td>\n",
       "    </tr>\n",
       "    <tr>\n",
       "      <th>3</th>\n",
       "      <td>0</td>\n",
       "      <td>31</td>\n",
       "      <td>0.002195</td>\n",
       "    </tr>\n",
       "    <tr>\n",
       "      <th>4</th>\n",
       "      <td>0</td>\n",
       "      <td>62</td>\n",
       "      <td>0.001747</td>\n",
       "    </tr>\n",
       "  </tbody>\n",
       "</table>\n",
       "</div>"
      ],
      "text/plain": [
       "   stock_id  time_id    target\n",
       "0         0        5  0.004136\n",
       "1         0       11  0.001445\n",
       "2         0       16  0.002168\n",
       "3         0       31  0.002195\n",
       "4         0       62  0.001747"
      ]
     },
     "execution_count": 38,
     "metadata": {},
     "output_type": "execute_result"
    }
   ],
   "source": [
    "INPUT_DIR = \"../input\"\n",
    "train = pd.read_csv(os.path.join(INPUT_DIR, \"train.csv\"))\n",
    "train.head()"
   ]
  },
  {
   "cell_type": "markdown",
   "id": "12751454",
   "metadata": {},
   "source": [
    "最初の行のデータを取ると、time_id 5, stock_id 0 のターゲットバケットの実現されたvolは  \n",
    "0.004136であることを意味します。  \n",
    "\n",
    "シグナルを構築するために、フィーチャーバケットのブックとトレードのデータはどのように見えるでしょうか？"
   ]
  },
  {
   "cell_type": "code",
   "execution_count": 5,
   "id": "7f52d308",
   "metadata": {
    "ExecuteTime": {
     "end_time": "2021-08-10T12:23:28.828914Z",
     "start_time": "2021-08-10T12:23:28.657280Z"
    }
   },
   "outputs": [],
   "source": [
    "book_example = pd.read_parquet(\n",
    "    os.path.join(INPUT_DIR, \"book_train.parquet\", \"stock_id=0\")\n",
    ")\n",
    "trade_example = pd.read_parquet(\n",
    "    os.path.join(INPUT_DIR, \"trade_train.parquet\", \"stock_id=0\")\n",
    ")\n",
    "\n",
    "stock_id = \"0\"\n",
    "book_example = book_example[book_example[\"time_id\"] == 5]\n",
    "book_example.loc[:, \"stock_id\"] = stock_id\n",
    "trade_example = trade_example[trade_example[\"time_id\"] == 5]\n",
    "trade_example.loc[:, \"stock_id\"] = stock_id"
   ]
  },
  {
   "cell_type": "code",
   "execution_count": 27,
   "id": "d4b70ad5",
   "metadata": {
    "ExecuteTime": {
     "end_time": "2021-08-10T14:32:21.581630Z",
     "start_time": "2021-08-10T14:32:21.569456Z"
    }
   },
   "outputs": [
    {
     "data": {
      "text/html": [
       "<div>\n",
       "<style scoped>\n",
       "    .dataframe tbody tr th:only-of-type {\n",
       "        vertical-align: middle;\n",
       "    }\n",
       "\n",
       "    .dataframe tbody tr th {\n",
       "        vertical-align: top;\n",
       "    }\n",
       "\n",
       "    .dataframe thead th {\n",
       "        text-align: right;\n",
       "    }\n",
       "</style>\n",
       "<table border=\"1\" class=\"dataframe\">\n",
       "  <thead>\n",
       "    <tr style=\"text-align: right;\">\n",
       "      <th></th>\n",
       "      <th>time_id</th>\n",
       "      <th>seconds_in_bucket</th>\n",
       "      <th>bid_price1</th>\n",
       "      <th>ask_price1</th>\n",
       "      <th>bid_price2</th>\n",
       "      <th>ask_price2</th>\n",
       "      <th>bid_size1</th>\n",
       "      <th>ask_size1</th>\n",
       "      <th>bid_size2</th>\n",
       "      <th>ask_size2</th>\n",
       "      <th>stock_id</th>\n",
       "      <th>wap</th>\n",
       "      <th>log_return</th>\n",
       "    </tr>\n",
       "  </thead>\n",
       "  <tbody>\n",
       "    <tr>\n",
       "      <th>1</th>\n",
       "      <td>5</td>\n",
       "      <td>1</td>\n",
       "      <td>1.001422</td>\n",
       "      <td>1.002301</td>\n",
       "      <td>1.00137</td>\n",
       "      <td>1.002353</td>\n",
       "      <td>3</td>\n",
       "      <td>100</td>\n",
       "      <td>2</td>\n",
       "      <td>100</td>\n",
       "      <td>0</td>\n",
       "      <td>1.001448</td>\n",
       "      <td>0.000014</td>\n",
       "    </tr>\n",
       "    <tr>\n",
       "      <th>2</th>\n",
       "      <td>5</td>\n",
       "      <td>5</td>\n",
       "      <td>1.001422</td>\n",
       "      <td>1.002301</td>\n",
       "      <td>1.00137</td>\n",
       "      <td>1.002405</td>\n",
       "      <td>3</td>\n",
       "      <td>100</td>\n",
       "      <td>2</td>\n",
       "      <td>100</td>\n",
       "      <td>0</td>\n",
       "      <td>1.001448</td>\n",
       "      <td>0.000000</td>\n",
       "    </tr>\n",
       "    <tr>\n",
       "      <th>3</th>\n",
       "      <td>5</td>\n",
       "      <td>6</td>\n",
       "      <td>1.001422</td>\n",
       "      <td>1.002301</td>\n",
       "      <td>1.00137</td>\n",
       "      <td>1.002405</td>\n",
       "      <td>3</td>\n",
       "      <td>126</td>\n",
       "      <td>2</td>\n",
       "      <td>100</td>\n",
       "      <td>0</td>\n",
       "      <td>1.001443</td>\n",
       "      <td>-0.000005</td>\n",
       "    </tr>\n",
       "    <tr>\n",
       "      <th>4</th>\n",
       "      <td>5</td>\n",
       "      <td>7</td>\n",
       "      <td>1.001422</td>\n",
       "      <td>1.002301</td>\n",
       "      <td>1.00137</td>\n",
       "      <td>1.002405</td>\n",
       "      <td>3</td>\n",
       "      <td>126</td>\n",
       "      <td>2</td>\n",
       "      <td>100</td>\n",
       "      <td>0</td>\n",
       "      <td>1.001443</td>\n",
       "      <td>0.000000</td>\n",
       "    </tr>\n",
       "    <tr>\n",
       "      <th>5</th>\n",
       "      <td>5</td>\n",
       "      <td>11</td>\n",
       "      <td>1.001422</td>\n",
       "      <td>1.002301</td>\n",
       "      <td>1.00137</td>\n",
       "      <td>1.002405</td>\n",
       "      <td>3</td>\n",
       "      <td>100</td>\n",
       "      <td>2</td>\n",
       "      <td>100</td>\n",
       "      <td>0</td>\n",
       "      <td>1.001448</td>\n",
       "      <td>0.000005</td>\n",
       "    </tr>\n",
       "  </tbody>\n",
       "</table>\n",
       "</div>"
      ],
      "text/plain": [
       "   time_id  seconds_in_bucket  bid_price1  ask_price1  bid_price2  ask_price2  \\\n",
       "1        5                  1    1.001422    1.002301     1.00137    1.002353   \n",
       "2        5                  5    1.001422    1.002301     1.00137    1.002405   \n",
       "3        5                  6    1.001422    1.002301     1.00137    1.002405   \n",
       "4        5                  7    1.001422    1.002301     1.00137    1.002405   \n",
       "5        5                 11    1.001422    1.002301     1.00137    1.002405   \n",
       "\n",
       "   bid_size1  ask_size1  bid_size2  ask_size2 stock_id       wap  log_return  \n",
       "1          3        100          2        100        0  1.001448    0.000014  \n",
       "2          3        100          2        100        0  1.001448    0.000000  \n",
       "3          3        126          2        100        0  1.001443   -0.000005  \n",
       "4          3        126          2        100        0  1.001443    0.000000  \n",
       "5          3        100          2        100        0  1.001448    0.000005  "
      ]
     },
     "metadata": {},
     "output_type": "display_data"
    },
    {
     "data": {
      "text/html": [
       "<div>\n",
       "<style scoped>\n",
       "    .dataframe tbody tr th:only-of-type {\n",
       "        vertical-align: middle;\n",
       "    }\n",
       "\n",
       "    .dataframe tbody tr th {\n",
       "        vertical-align: top;\n",
       "    }\n",
       "\n",
       "    .dataframe thead th {\n",
       "        text-align: right;\n",
       "    }\n",
       "</style>\n",
       "<table border=\"1\" class=\"dataframe\">\n",
       "  <thead>\n",
       "    <tr style=\"text-align: right;\">\n",
       "      <th></th>\n",
       "      <th>time_id</th>\n",
       "      <th>seconds_in_bucket</th>\n",
       "      <th>price</th>\n",
       "      <th>size</th>\n",
       "      <th>order_count</th>\n",
       "      <th>stock_id</th>\n",
       "    </tr>\n",
       "  </thead>\n",
       "  <tbody>\n",
       "    <tr>\n",
       "      <th>0</th>\n",
       "      <td>5</td>\n",
       "      <td>21</td>\n",
       "      <td>1.002301</td>\n",
       "      <td>326</td>\n",
       "      <td>12</td>\n",
       "      <td>0</td>\n",
       "    </tr>\n",
       "    <tr>\n",
       "      <th>1</th>\n",
       "      <td>5</td>\n",
       "      <td>46</td>\n",
       "      <td>1.002778</td>\n",
       "      <td>128</td>\n",
       "      <td>4</td>\n",
       "      <td>0</td>\n",
       "    </tr>\n",
       "    <tr>\n",
       "      <th>2</th>\n",
       "      <td>5</td>\n",
       "      <td>50</td>\n",
       "      <td>1.002818</td>\n",
       "      <td>55</td>\n",
       "      <td>1</td>\n",
       "      <td>0</td>\n",
       "    </tr>\n",
       "    <tr>\n",
       "      <th>3</th>\n",
       "      <td>5</td>\n",
       "      <td>57</td>\n",
       "      <td>1.003155</td>\n",
       "      <td>121</td>\n",
       "      <td>5</td>\n",
       "      <td>0</td>\n",
       "    </tr>\n",
       "    <tr>\n",
       "      <th>4</th>\n",
       "      <td>5</td>\n",
       "      <td>68</td>\n",
       "      <td>1.003646</td>\n",
       "      <td>4</td>\n",
       "      <td>1</td>\n",
       "      <td>0</td>\n",
       "    </tr>\n",
       "  </tbody>\n",
       "</table>\n",
       "</div>"
      ],
      "text/plain": [
       "   time_id  seconds_in_bucket     price  size  order_count stock_id\n",
       "0        5                 21  1.002301   326           12        0\n",
       "1        5                 46  1.002778   128            4        0\n",
       "2        5                 50  1.002818    55            1        0\n",
       "3        5                 57  1.003155   121            5        0\n",
       "4        5                 68  1.003646     4            1        0"
      ]
     },
     "metadata": {},
     "output_type": "display_data"
    }
   ],
   "source": [
    "display(book_example.head())\n",
    "display(trade_example.head())"
   ]
  },
  {
   "cell_type": "code",
   "execution_count": 33,
   "id": "21c9470c",
   "metadata": {
    "ExecuteTime": {
     "end_time": "2021-08-10T14:42:24.281739Z",
     "start_time": "2021-08-10T14:42:24.213040Z"
    }
   },
   "outputs": [
    {
     "data": {
      "text/html": [
       "<div>\n",
       "<style scoped>\n",
       "    .dataframe tbody tr th:only-of-type {\n",
       "        vertical-align: middle;\n",
       "    }\n",
       "\n",
       "    .dataframe tbody tr th {\n",
       "        vertical-align: top;\n",
       "    }\n",
       "\n",
       "    .dataframe thead th {\n",
       "        text-align: right;\n",
       "    }\n",
       "</style>\n",
       "<table border=\"1\" class=\"dataframe\">\n",
       "  <thead>\n",
       "    <tr style=\"text-align: right;\">\n",
       "      <th></th>\n",
       "      <th>min</th>\n",
       "      <th>max</th>\n",
       "    </tr>\n",
       "    <tr>\n",
       "      <th>time_id</th>\n",
       "      <th></th>\n",
       "      <th></th>\n",
       "    </tr>\n",
       "  </thead>\n",
       "  <tbody>\n",
       "    <tr>\n",
       "      <th>5</th>\n",
       "      <td>0</td>\n",
       "      <td>593</td>\n",
       "    </tr>\n",
       "    <tr>\n",
       "      <th>11</th>\n",
       "      <td>0</td>\n",
       "      <td>596</td>\n",
       "    </tr>\n",
       "    <tr>\n",
       "      <th>16</th>\n",
       "      <td>0</td>\n",
       "      <td>598</td>\n",
       "    </tr>\n",
       "    <tr>\n",
       "      <th>31</th>\n",
       "      <td>0</td>\n",
       "      <td>585</td>\n",
       "    </tr>\n",
       "    <tr>\n",
       "      <th>62</th>\n",
       "      <td>0</td>\n",
       "      <td>586</td>\n",
       "    </tr>\n",
       "    <tr>\n",
       "      <th>...</th>\n",
       "      <td>...</td>\n",
       "      <td>...</td>\n",
       "    </tr>\n",
       "    <tr>\n",
       "      <th>32751</th>\n",
       "      <td>0</td>\n",
       "      <td>585</td>\n",
       "    </tr>\n",
       "    <tr>\n",
       "      <th>32753</th>\n",
       "      <td>0</td>\n",
       "      <td>599</td>\n",
       "    </tr>\n",
       "    <tr>\n",
       "      <th>32758</th>\n",
       "      <td>0</td>\n",
       "      <td>598</td>\n",
       "    </tr>\n",
       "    <tr>\n",
       "      <th>32763</th>\n",
       "      <td>0</td>\n",
       "      <td>590</td>\n",
       "    </tr>\n",
       "    <tr>\n",
       "      <th>32767</th>\n",
       "      <td>0</td>\n",
       "      <td>582</td>\n",
       "    </tr>\n",
       "  </tbody>\n",
       "</table>\n",
       "<p>3830 rows × 2 columns</p>\n",
       "</div>"
      ],
      "text/plain": [
       "         min  max\n",
       "time_id          \n",
       "5          0  593\n",
       "11         0  596\n",
       "16         0  598\n",
       "31         0  585\n",
       "62         0  586\n",
       "...      ...  ...\n",
       "32751      0  585\n",
       "32753      0  599\n",
       "32758      0  598\n",
       "32763      0  590\n",
       "32767      0  582\n",
       "\n",
       "[3830 rows x 2 columns]"
      ]
     },
     "execution_count": 33,
     "metadata": {},
     "output_type": "execute_result"
    }
   ],
   "source": [
    "b = pd.read_parquet(\n",
    "    os.path.join(INPUT_DIR, \"book_train.parquet\", \"stock_id=0\")\n",
    ")\n",
    "b.groupby('time_id')['seconds_in_bucket'].agg({'max', 'min'})"
   ]
  },
  {
   "cell_type": "markdown",
   "id": "b018cee8",
   "metadata": {},
   "source": [
    "book -> order book  \n",
    "trade -> 取引履歴\n"
   ]
  },
  {
   "cell_type": "markdown",
   "id": "9abd181a",
   "metadata": {},
   "source": [
    "このコンペでは、短期の実現ボラティリティを予測することが目標です。  \n",
    "実現ボラティリティは、ある銘柄の価格変動の統計的な指標であるため、  \n",
    "価格変動を計算するためには、まず、一定の間隔（1秒）での株価評価が必要です。  \n",
    "ここでは、提供したオーダーブックデータの加重平均価格(WAP)を使用します。"
   ]
  },
  {
   "cell_type": "code",
   "execution_count": 6,
   "id": "42aeaefe",
   "metadata": {
    "ExecuteTime": {
     "end_time": "2021-08-10T12:23:29.285495Z",
     "start_time": "2021-08-10T12:23:29.281704Z"
    }
   },
   "outputs": [],
   "source": [
    "def get_wap(bid_price1, ask_price1, bid_size1, ask_size1):\n",
    "    \"\"\"\n",
    "    wap(加重平均価格)を計算する\n",
    "\n",
    "    Parameter\n",
    "    ---------\n",
    "    bid_price1: float\n",
    "        最大買い注文の値段\n",
    "    ask_price1: float\n",
    "        最小売り注文の値段\n",
    "    bid_size1: float int?\n",
    "        最大買い注文の量\n",
    "    ask_size1: float int?\n",
    "        最小売り注文の量\n",
    "    \"\"\"\n",
    "    return (bid_price1 * ask_size1 + ask_price1 * bid_size1) / (bid_size1 + ask_size1)"
   ]
  },
  {
   "cell_type": "code",
   "execution_count": 7,
   "id": "574e8f03",
   "metadata": {
    "ExecuteTime": {
     "end_time": "2021-08-10T12:23:29.691688Z",
     "start_time": "2021-08-10T12:23:29.675616Z"
    }
   },
   "outputs": [],
   "source": [
    "book_example[\"wap\"] = book_example.apply(\n",
    "    lambda x: get_wap(x.bid_price1, x.ask_price1, x.bid_size1, x.ask_size1), axis=1\n",
    ")"
   ]
  },
  {
   "cell_type": "code",
   "execution_count": 8,
   "id": "ebe25143",
   "metadata": {
    "ExecuteTime": {
     "end_time": "2021-08-10T12:23:29.886987Z",
     "start_time": "2021-08-10T12:23:29.882072Z"
    }
   },
   "outputs": [
    {
     "data": {
      "text/plain": [
       "Index(['time_id', 'seconds_in_bucket', 'bid_price1', 'ask_price1',\n",
       "       'bid_price2', 'ask_price2', 'bid_size1', 'ask_size1', 'bid_size2',\n",
       "       'ask_size2', 'stock_id', 'wap'],\n",
       "      dtype='object')"
      ]
     },
     "execution_count": 8,
     "metadata": {},
     "output_type": "execute_result"
    }
   ],
   "source": [
    "book_example.columns"
   ]
  },
  {
   "cell_type": "code",
   "execution_count": 32,
   "id": "60c47ab2",
   "metadata": {
    "ExecuteTime": {
     "end_time": "2021-08-10T14:35:33.549964Z",
     "start_time": "2021-08-10T14:35:33.539238Z"
    }
   },
   "outputs": [
    {
     "data": {
      "text/html": [
       "<div>\n",
       "<style scoped>\n",
       "    .dataframe tbody tr th:only-of-type {\n",
       "        vertical-align: middle;\n",
       "    }\n",
       "\n",
       "    .dataframe tbody tr th {\n",
       "        vertical-align: top;\n",
       "    }\n",
       "\n",
       "    .dataframe thead th {\n",
       "        text-align: right;\n",
       "    }\n",
       "</style>\n",
       "<table border=\"1\" class=\"dataframe\">\n",
       "  <thead>\n",
       "    <tr style=\"text-align: right;\">\n",
       "      <th></th>\n",
       "      <th>time_id</th>\n",
       "      <th>seconds_in_bucket</th>\n",
       "      <th>bid_price1</th>\n",
       "      <th>ask_price1</th>\n",
       "      <th>bid_price2</th>\n",
       "      <th>ask_price2</th>\n",
       "      <th>bid_size1</th>\n",
       "      <th>ask_size1</th>\n",
       "      <th>bid_size2</th>\n",
       "      <th>ask_size2</th>\n",
       "      <th>stock_id</th>\n",
       "      <th>wap</th>\n",
       "      <th>log_return</th>\n",
       "    </tr>\n",
       "  </thead>\n",
       "  <tbody>\n",
       "    <tr>\n",
       "      <th>1</th>\n",
       "      <td>5</td>\n",
       "      <td>1</td>\n",
       "      <td>1.001422</td>\n",
       "      <td>1.002301</td>\n",
       "      <td>1.001370</td>\n",
       "      <td>1.002353</td>\n",
       "      <td>3</td>\n",
       "      <td>100</td>\n",
       "      <td>2</td>\n",
       "      <td>100</td>\n",
       "      <td>0</td>\n",
       "      <td>1.001448</td>\n",
       "      <td>0.000014</td>\n",
       "    </tr>\n",
       "    <tr>\n",
       "      <th>2</th>\n",
       "      <td>5</td>\n",
       "      <td>5</td>\n",
       "      <td>1.001422</td>\n",
       "      <td>1.002301</td>\n",
       "      <td>1.001370</td>\n",
       "      <td>1.002405</td>\n",
       "      <td>3</td>\n",
       "      <td>100</td>\n",
       "      <td>2</td>\n",
       "      <td>100</td>\n",
       "      <td>0</td>\n",
       "      <td>1.001448</td>\n",
       "      <td>0.000000</td>\n",
       "    </tr>\n",
       "    <tr>\n",
       "      <th>3</th>\n",
       "      <td>5</td>\n",
       "      <td>6</td>\n",
       "      <td>1.001422</td>\n",
       "      <td>1.002301</td>\n",
       "      <td>1.001370</td>\n",
       "      <td>1.002405</td>\n",
       "      <td>3</td>\n",
       "      <td>126</td>\n",
       "      <td>2</td>\n",
       "      <td>100</td>\n",
       "      <td>0</td>\n",
       "      <td>1.001443</td>\n",
       "      <td>-0.000005</td>\n",
       "    </tr>\n",
       "    <tr>\n",
       "      <th>4</th>\n",
       "      <td>5</td>\n",
       "      <td>7</td>\n",
       "      <td>1.001422</td>\n",
       "      <td>1.002301</td>\n",
       "      <td>1.001370</td>\n",
       "      <td>1.002405</td>\n",
       "      <td>3</td>\n",
       "      <td>126</td>\n",
       "      <td>2</td>\n",
       "      <td>100</td>\n",
       "      <td>0</td>\n",
       "      <td>1.001443</td>\n",
       "      <td>0.000000</td>\n",
       "    </tr>\n",
       "    <tr>\n",
       "      <th>5</th>\n",
       "      <td>5</td>\n",
       "      <td>11</td>\n",
       "      <td>1.001422</td>\n",
       "      <td>1.002301</td>\n",
       "      <td>1.001370</td>\n",
       "      <td>1.002405</td>\n",
       "      <td>3</td>\n",
       "      <td>100</td>\n",
       "      <td>2</td>\n",
       "      <td>100</td>\n",
       "      <td>0</td>\n",
       "      <td>1.001448</td>\n",
       "      <td>0.000005</td>\n",
       "    </tr>\n",
       "    <tr>\n",
       "      <th>...</th>\n",
       "      <td>...</td>\n",
       "      <td>...</td>\n",
       "      <td>...</td>\n",
       "      <td>...</td>\n",
       "      <td>...</td>\n",
       "      <td>...</td>\n",
       "      <td>...</td>\n",
       "      <td>...</td>\n",
       "      <td>...</td>\n",
       "      <td>...</td>\n",
       "      <td>...</td>\n",
       "      <td>...</td>\n",
       "      <td>...</td>\n",
       "    </tr>\n",
       "    <tr>\n",
       "      <th>297</th>\n",
       "      <td>5</td>\n",
       "      <td>585</td>\n",
       "      <td>1.003129</td>\n",
       "      <td>1.003749</td>\n",
       "      <td>1.003025</td>\n",
       "      <td>1.003801</td>\n",
       "      <td>100</td>\n",
       "      <td>3</td>\n",
       "      <td>26</td>\n",
       "      <td>3</td>\n",
       "      <td>0</td>\n",
       "      <td>1.003731</td>\n",
       "      <td>0.000245</td>\n",
       "    </tr>\n",
       "    <tr>\n",
       "      <th>298</th>\n",
       "      <td>5</td>\n",
       "      <td>586</td>\n",
       "      <td>1.003129</td>\n",
       "      <td>1.003749</td>\n",
       "      <td>1.002612</td>\n",
       "      <td>1.003801</td>\n",
       "      <td>100</td>\n",
       "      <td>3</td>\n",
       "      <td>2</td>\n",
       "      <td>3</td>\n",
       "      <td>0</td>\n",
       "      <td>1.003731</td>\n",
       "      <td>0.000000</td>\n",
       "    </tr>\n",
       "    <tr>\n",
       "      <th>299</th>\n",
       "      <td>5</td>\n",
       "      <td>587</td>\n",
       "      <td>1.003129</td>\n",
       "      <td>1.003749</td>\n",
       "      <td>1.003025</td>\n",
       "      <td>1.003801</td>\n",
       "      <td>100</td>\n",
       "      <td>3</td>\n",
       "      <td>26</td>\n",
       "      <td>3</td>\n",
       "      <td>0</td>\n",
       "      <td>1.003731</td>\n",
       "      <td>0.000000</td>\n",
       "    </tr>\n",
       "    <tr>\n",
       "      <th>300</th>\n",
       "      <td>5</td>\n",
       "      <td>588</td>\n",
       "      <td>1.003129</td>\n",
       "      <td>1.003749</td>\n",
       "      <td>1.002612</td>\n",
       "      <td>1.003801</td>\n",
       "      <td>100</td>\n",
       "      <td>3</td>\n",
       "      <td>2</td>\n",
       "      <td>3</td>\n",
       "      <td>0</td>\n",
       "      <td>1.003731</td>\n",
       "      <td>0.000000</td>\n",
       "    </tr>\n",
       "    <tr>\n",
       "      <th>301</th>\n",
       "      <td>5</td>\n",
       "      <td>593</td>\n",
       "      <td>1.003129</td>\n",
       "      <td>1.003749</td>\n",
       "      <td>1.003025</td>\n",
       "      <td>1.003801</td>\n",
       "      <td>100</td>\n",
       "      <td>3</td>\n",
       "      <td>26</td>\n",
       "      <td>3</td>\n",
       "      <td>0</td>\n",
       "      <td>1.003731</td>\n",
       "      <td>0.000000</td>\n",
       "    </tr>\n",
       "  </tbody>\n",
       "</table>\n",
       "<p>301 rows × 13 columns</p>\n",
       "</div>"
      ],
      "text/plain": [
       "     time_id  seconds_in_bucket  bid_price1  ask_price1  bid_price2  \\\n",
       "1          5                  1    1.001422    1.002301    1.001370   \n",
       "2          5                  5    1.001422    1.002301    1.001370   \n",
       "3          5                  6    1.001422    1.002301    1.001370   \n",
       "4          5                  7    1.001422    1.002301    1.001370   \n",
       "5          5                 11    1.001422    1.002301    1.001370   \n",
       "..       ...                ...         ...         ...         ...   \n",
       "297        5                585    1.003129    1.003749    1.003025   \n",
       "298        5                586    1.003129    1.003749    1.002612   \n",
       "299        5                587    1.003129    1.003749    1.003025   \n",
       "300        5                588    1.003129    1.003749    1.002612   \n",
       "301        5                593    1.003129    1.003749    1.003025   \n",
       "\n",
       "     ask_price2  bid_size1  ask_size1  bid_size2  ask_size2 stock_id  \\\n",
       "1      1.002353          3        100          2        100        0   \n",
       "2      1.002405          3        100          2        100        0   \n",
       "3      1.002405          3        126          2        100        0   \n",
       "4      1.002405          3        126          2        100        0   \n",
       "5      1.002405          3        100          2        100        0   \n",
       "..          ...        ...        ...        ...        ...      ...   \n",
       "297    1.003801        100          3         26          3        0   \n",
       "298    1.003801        100          3          2          3        0   \n",
       "299    1.003801        100          3         26          3        0   \n",
       "300    1.003801        100          3          2          3        0   \n",
       "301    1.003801        100          3         26          3        0   \n",
       "\n",
       "          wap  log_return  \n",
       "1    1.001448    0.000014  \n",
       "2    1.001448    0.000000  \n",
       "3    1.001443   -0.000005  \n",
       "4    1.001443    0.000000  \n",
       "5    1.001448    0.000005  \n",
       "..        ...         ...  \n",
       "297  1.003731    0.000245  \n",
       "298  1.003731    0.000000  \n",
       "299  1.003731    0.000000  \n",
       "300  1.003731    0.000000  \n",
       "301  1.003731    0.000000  \n",
       "\n",
       "[301 rows x 13 columns]"
      ]
     },
     "execution_count": 32,
     "metadata": {},
     "output_type": "execute_result"
    }
   ],
   "source": [
    "book_example"
   ]
  },
  {
   "cell_type": "code",
   "execution_count": 9,
   "id": "fa5f14a7",
   "metadata": {
    "ExecuteTime": {
     "end_time": "2021-08-10T12:23:30.374984Z",
     "start_time": "2021-08-10T12:23:30.289129Z"
    }
   },
   "outputs": [
    {
     "data": {
      "image/png": "[encoded data removed]",
      "text/plain": [
       "<Figure size 432x288 with 1 Axes>"
      ]
     },
     "metadata": {
      "needs_background": "light"
     },
     "output_type": "display_data"
    }
   ],
   "source": [
    "plt.plot(book_example.seconds_in_bucket, book_example.wap)\n",
    "plt.show()"
   ]
  },
  {
   "cell_type": "markdown",
   "id": "eeb457de",
   "metadata": {},
   "source": [
    "ログリターンを計算するには、単純に連続する2つのWAP間の比率の対数を取ることができます。  \n",
    "最初の行は、前回のブックアップデートが不明であるため、空のリターンがあり、  \n",
    "したがって空のリターンのデータポイントは削除されます。"
   ]
  },
  {
   "cell_type": "code",
   "execution_count": 10,
   "id": "af76be9c",
   "metadata": {
    "ExecuteTime": {
     "end_time": "2021-08-10T12:23:31.173169Z",
     "start_time": "2021-08-10T12:23:31.170751Z"
    }
   },
   "outputs": [],
   "source": [
    "def calc_log_return(stock_prices):\n",
    "    \"\"\"\n",
    "    log returnを計算する。\n",
    "\n",
    "    Parameter\n",
    "    ---------\n",
    "    stock_prices: list[float]\n",
    "        価格のリスト\n",
    "    \"\"\"\n",
    "    return np.diff(np.log(stock_prices))\n",
    "\n",
    "\n",
    "def calc_realized_volatility(log_returns):\n",
    "    \"\"\"\n",
    "    volatilityを計算する。\n",
    "\n",
    "    Parameter\n",
    "    ---------\n",
    "    log_returns: list[float]\n",
    "        log returnの配列\n",
    "    \"\"\"\n",
    "    return np.sqrt(np.sum(log_returns ** 2))"
   ]
  },
  {
   "cell_type": "code",
   "execution_count": 11,
   "id": "da84c8d7",
   "metadata": {
    "ExecuteTime": {
     "end_time": "2021-08-10T12:23:31.746990Z",
     "start_time": "2021-08-10T12:23:31.743463Z"
    }
   },
   "outputs": [],
   "source": [
    "book_example.loc[1:, \"log_return\"] = calc_log_return(book_example.wap)\n",
    "\n",
    "# 最初の行を除く\n",
    "book_example = book_example[~book_example[\"log_return\"].isnull()]"
   ]
  },
  {
   "cell_type": "code",
   "execution_count": 12,
   "id": "7a42afa3",
   "metadata": {
    "ExecuteTime": {
     "end_time": "2021-08-10T12:23:32.993203Z",
     "start_time": "2021-08-10T12:23:32.917115Z"
    }
   },
   "outputs": [
    {
     "data": {
      "image/png": "[encoded data removed]",
      "text/plain": [
       "<Figure size 432x288 with 1 Axes>"
      ]
     },
     "metadata": {
      "needs_background": "light"
     },
     "output_type": "display_data"
    }
   ],
   "source": [
    "plt.plot(book_example.seconds_in_bucket, book_example.log_return)\n",
    "plt.show()"
   ]
  },
  {
   "cell_type": "markdown",
   "id": "d8ab64ff",
   "metadata": {},
   "source": [
    "ボラティリティに関する一般的な事実は、自己相関する傾向があることです。  \n",
    "この特性を利用して、最初の10分間の実現ボラティリティーを使用して、  \n",
    "実現ボラティリティーを「予測」するだけの素朴なモデルを実装することができます。\n",
    "\n",
    "トレーニングセット全体の過去の実現ボラティリティを計算し、  \n",
    "単一のナイーブなシグナルがどの程度予測できるかを見てみましょう。"
   ]
  },
  {
   "cell_type": "markdown",
   "id": "5302dec8",
   "metadata": {},
   "source": [
    "本大会ではメモリをより効率的に管理できるように、データをstock_idで分割しているため、    \n",
    "実現ボラティリティを銘柄ごとに計算し、1つの提出ファイルにまとめてみます。  \n",
    "1つのファイルをロードすると、パーティションカラムとしてのストックIDが存在しないことに注意して、  \n",
    "手動で修正します。  \n",
    "前回のセッションで定義したログリターン関数と実現ボラティリティ関数を再利用します。"
   ]
  },
  {
   "cell_type": "code",
   "execution_count": 13,
   "id": "67f559fa",
   "metadata": {
    "ExecuteTime": {
     "end_time": "2021-08-10T12:23:34.990632Z",
     "start_time": "2021-08-10T12:23:34.611062Z"
    }
   },
   "outputs": [],
   "source": [
    "from sklearn.metrics import r2_score\n",
    "import glob"
   ]
  },
  {
   "cell_type": "code",
   "execution_count": 31,
   "id": "ecbf2de2",
   "metadata": {
    "ExecuteTime": {
     "end_time": "2021-08-10T14:35:03.617677Z",
     "start_time": "2021-08-10T14:35:03.615217Z"
    }
   },
   "outputs": [],
   "source": [
    "list_order_book_file_train = glob.glob(os.path.join(INPUT_DIR, \"book_train.parquet/*\"))"
   ]
  },
  {
   "cell_type": "code",
   "execution_count": 22,
   "id": "bfe22398",
   "metadata": {
    "ExecuteTime": {
     "end_time": "2021-08-10T12:25:33.102251Z",
     "start_time": "2021-08-10T12:25:33.098875Z"
    }
   },
   "outputs": [],
   "source": [
    "def realized_volatility_per_time_id(file_path, prediction_column_name):\n",
    "    # read\n",
    "    df_book_data = pd.read_parquet(file_path)\n",
    "    \n",
    "    # 荷重平均\n",
    "    df_book_data[\"wap\"] = df_book_data.apply(\n",
    "        lambda x: get_wap(x.bid_price1, x.ask_price1, x.bid_size1, x.ask_size1), axis=1\n",
    "    )\n",
    "    \n",
    "    # log return\n",
    "    df_book_data.loc[1:, \"log_return\"] = calc_log_return(df_book_data.wap)\n",
    "\n",
    "    df_book_data = df_book_data[~df_book_data[\"log_return\"].isnull()]\n",
    "\n",
    "    # \n",
    "    df_realized_vol_per_stock = pd.DataFrame(\n",
    "        df_book_data.groupby([\"time_id\"])[\"log_return\"].agg(calc_realized_volatility)\n",
    "    ).reset_index()\n",
    "    \n",
    "    df_realized_vol_per_stock = df_realized_vol_per_stock.rename(\n",
    "        columns={\"log_return\": prediction_column_name}\n",
    "    )\n",
    "    stock_id = file_path.split(\"=\")[1]\n",
    "    df_realized_vol_per_stock[\"row_id\"] = df_realized_vol_per_stock[\"time_id\"].apply(\n",
    "        lambda x: f\"{stock_id}-{x}\"\n",
    "    )\n",
    "    return df_realized_vol_per_stock[[\"row_id\", prediction_column_name]]"
   ]
  },
  {
   "cell_type": "code",
   "execution_count": 23,
   "id": "59353892",
   "metadata": {
    "ExecuteTime": {
     "end_time": "2021-08-10T13:10:19.020888Z",
     "start_time": "2021-08-10T12:25:33.471031Z"
    }
   },
   "outputs": [],
   "source": [
    "def past_realized_volatility_per_stock(list_file, prediction_column_name):\n",
    "    df_past_realized = pd.DataFrame()\n",
    "    for file in list_file:\n",
    "        df_past_realized = pd.concat([df_past_realized,\n",
    "                                     realized_volatility_per_time_id(file,prediction_column_name)])\n",
    "    return df_past_realized\n",
    "\n",
    "\n",
    "df_past_realized_train = past_realized_volatility_per_stock(list_file=list_order_book_file_train,\n",
    "                                                           prediction_column_name='pred')\n"
   ]
  },
  {
   "cell_type": "code",
   "execution_count": 34,
   "id": "d7c75d7f",
   "metadata": {
    "ExecuteTime": {
     "end_time": "2021-08-10T14:44:09.911386Z",
     "start_time": "2021-08-10T14:44:09.904983Z"
    }
   },
   "outputs": [
    {
     "data": {
      "text/html": [
       "<div>\n",
       "<style scoped>\n",
       "    .dataframe tbody tr th:only-of-type {\n",
       "        vertical-align: middle;\n",
       "    }\n",
       "\n",
       "    .dataframe tbody tr th {\n",
       "        vertical-align: top;\n",
       "    }\n",
       "\n",
       "    .dataframe thead th {\n",
       "        text-align: right;\n",
       "    }\n",
       "</style>\n",
       "<table border=\"1\" class=\"dataframe\">\n",
       "  <thead>\n",
       "    <tr style=\"text-align: right;\">\n",
       "      <th></th>\n",
       "      <th>row_id</th>\n",
       "      <th>pred</th>\n",
       "    </tr>\n",
       "  </thead>\n",
       "  <tbody>\n",
       "    <tr>\n",
       "      <th>0</th>\n",
       "      <td>48-5</td>\n",
       "      <td>0.002851</td>\n",
       "    </tr>\n",
       "    <tr>\n",
       "      <th>1</th>\n",
       "      <td>48-11</td>\n",
       "      <td>0.002512</td>\n",
       "    </tr>\n",
       "    <tr>\n",
       "      <th>2</th>\n",
       "      <td>48-16</td>\n",
       "      <td>0.002217</td>\n",
       "    </tr>\n",
       "    <tr>\n",
       "      <th>3</th>\n",
       "      <td>48-31</td>\n",
       "      <td>0.002574</td>\n",
       "    </tr>\n",
       "    <tr>\n",
       "      <th>4</th>\n",
       "      <td>48-62</td>\n",
       "      <td>0.002366</td>\n",
       "    </tr>\n",
       "    <tr>\n",
       "      <th>...</th>\n",
       "      <td>...</td>\n",
       "      <td>...</td>\n",
       "    </tr>\n",
       "    <tr>\n",
       "      <th>3825</th>\n",
       "      <td>87-32751</td>\n",
       "      <td>0.002421</td>\n",
       "    </tr>\n",
       "    <tr>\n",
       "      <th>3826</th>\n",
       "      <td>87-32753</td>\n",
       "      <td>0.004649</td>\n",
       "    </tr>\n",
       "    <tr>\n",
       "      <th>3827</th>\n",
       "      <td>87-32758</td>\n",
       "      <td>0.003180</td>\n",
       "    </tr>\n",
       "    <tr>\n",
       "      <th>3828</th>\n",
       "      <td>87-32763</td>\n",
       "      <td>0.003142</td>\n",
       "    </tr>\n",
       "    <tr>\n",
       "      <th>3829</th>\n",
       "      <td>87-32767</td>\n",
       "      <td>0.006297</td>\n",
       "    </tr>\n",
       "  </tbody>\n",
       "</table>\n",
       "<p>428932 rows × 2 columns</p>\n",
       "</div>"
      ],
      "text/plain": [
       "        row_id      pred\n",
       "0         48-5  0.002851\n",
       "1        48-11  0.002512\n",
       "2        48-16  0.002217\n",
       "3        48-31  0.002574\n",
       "4        48-62  0.002366\n",
       "...        ...       ...\n",
       "3825  87-32751  0.002421\n",
       "3826  87-32753  0.004649\n",
       "3827  87-32758  0.003180\n",
       "3828  87-32763  0.003142\n",
       "3829  87-32767  0.006297\n",
       "\n",
       "[428932 rows x 2 columns]"
      ]
     },
     "execution_count": 34,
     "metadata": {},
     "output_type": "execute_result"
    }
   ],
   "source": [
    "df_past_realized_train"
   ]
  },
  {
   "cell_type": "code",
   "execution_count": 39,
   "id": "7de00c15",
   "metadata": {
    "ExecuteTime": {
     "end_time": "2021-08-10T14:45:52.780179Z",
     "start_time": "2021-08-10T14:45:52.775666Z"
    }
   },
   "outputs": [
    {
     "data": {
      "text/html": [
       "<div>\n",
       "<style scoped>\n",
       "    .dataframe tbody tr th:only-of-type {\n",
       "        vertical-align: middle;\n",
       "    }\n",
       "\n",
       "    .dataframe tbody tr th {\n",
       "        vertical-align: top;\n",
       "    }\n",
       "\n",
       "    .dataframe thead th {\n",
       "        text-align: right;\n",
       "    }\n",
       "</style>\n",
       "<table border=\"1\" class=\"dataframe\">\n",
       "  <thead>\n",
       "    <tr style=\"text-align: right;\">\n",
       "      <th></th>\n",
       "      <th>stock_id</th>\n",
       "      <th>time_id</th>\n",
       "      <th>target</th>\n",
       "    </tr>\n",
       "  </thead>\n",
       "  <tbody>\n",
       "    <tr>\n",
       "      <th>0</th>\n",
       "      <td>0</td>\n",
       "      <td>5</td>\n",
       "      <td>0.004136</td>\n",
       "    </tr>\n",
       "    <tr>\n",
       "      <th>1</th>\n",
       "      <td>0</td>\n",
       "      <td>11</td>\n",
       "      <td>0.001445</td>\n",
       "    </tr>\n",
       "    <tr>\n",
       "      <th>2</th>\n",
       "      <td>0</td>\n",
       "      <td>16</td>\n",
       "      <td>0.002168</td>\n",
       "    </tr>\n",
       "    <tr>\n",
       "      <th>3</th>\n",
       "      <td>0</td>\n",
       "      <td>31</td>\n",
       "      <td>0.002195</td>\n",
       "    </tr>\n",
       "    <tr>\n",
       "      <th>4</th>\n",
       "      <td>0</td>\n",
       "      <td>62</td>\n",
       "      <td>0.001747</td>\n",
       "    </tr>\n",
       "  </tbody>\n",
       "</table>\n",
       "</div>"
      ],
      "text/plain": [
       "   stock_id  time_id    target\n",
       "0         0        5  0.004136\n",
       "1         0       11  0.001445\n",
       "2         0       16  0.002168\n",
       "3         0       31  0.002195\n",
       "4         0       62  0.001747"
      ]
     },
     "execution_count": 39,
     "metadata": {},
     "output_type": "execute_result"
    }
   ],
   "source": [
    "train.head()"
   ]
  },
  {
   "cell_type": "code",
   "execution_count": 40,
   "id": "3cf29d82",
   "metadata": {
    "ExecuteTime": {
     "end_time": "2021-08-10T14:46:14.743691Z",
     "start_time": "2021-08-10T14:46:14.225839Z"
    }
   },
   "outputs": [],
   "source": [
    "train['row_id'] = train['stock_id'].astype(str) + '-' + train['time_id'].astype(str)\n",
    "train = train[['row_id','target']]\n",
    "df_joined = train.merge(df_past_realized_train[['row_id','pred']], on = ['row_id'], how = 'left')"
   ]
  },
  {
   "cell_type": "code",
   "execution_count": 41,
   "id": "6a26ed02",
   "metadata": {
    "ExecuteTime": {
     "end_time": "2021-08-10T14:46:53.578873Z",
     "start_time": "2021-08-10T14:46:53.570680Z"
    }
   },
   "outputs": [
    {
     "data": {
      "text/html": [
       "<div>\n",
       "<style scoped>\n",
       "    .dataframe tbody tr th:only-of-type {\n",
       "        vertical-align: middle;\n",
       "    }\n",
       "\n",
       "    .dataframe tbody tr th {\n",
       "        vertical-align: top;\n",
       "    }\n",
       "\n",
       "    .dataframe thead th {\n",
       "        text-align: right;\n",
       "    }\n",
       "</style>\n",
       "<table border=\"1\" class=\"dataframe\">\n",
       "  <thead>\n",
       "    <tr style=\"text-align: right;\">\n",
       "      <th></th>\n",
       "      <th>row_id</th>\n",
       "      <th>target</th>\n",
       "      <th>pred</th>\n",
       "    </tr>\n",
       "  </thead>\n",
       "  <tbody>\n",
       "    <tr>\n",
       "      <th>0</th>\n",
       "      <td>0-5</td>\n",
       "      <td>0.004136</td>\n",
       "      <td>0.004499</td>\n",
       "    </tr>\n",
       "    <tr>\n",
       "      <th>1</th>\n",
       "      <td>0-11</td>\n",
       "      <td>0.001445</td>\n",
       "      <td>0.003966</td>\n",
       "    </tr>\n",
       "    <tr>\n",
       "      <th>2</th>\n",
       "      <td>0-16</td>\n",
       "      <td>0.002168</td>\n",
       "      <td>0.002451</td>\n",
       "    </tr>\n",
       "    <tr>\n",
       "      <th>3</th>\n",
       "      <td>0-31</td>\n",
       "      <td>0.002195</td>\n",
       "      <td>0.003742</td>\n",
       "    </tr>\n",
       "    <tr>\n",
       "      <th>4</th>\n",
       "      <td>0-62</td>\n",
       "      <td>0.001747</td>\n",
       "      <td>0.003210</td>\n",
       "    </tr>\n",
       "    <tr>\n",
       "      <th>...</th>\n",
       "      <td>...</td>\n",
       "      <td>...</td>\n",
       "      <td>...</td>\n",
       "    </tr>\n",
       "    <tr>\n",
       "      <th>428927</th>\n",
       "      <td>126-32751</td>\n",
       "      <td>0.003461</td>\n",
       "      <td>0.003885</td>\n",
       "    </tr>\n",
       "    <tr>\n",
       "      <th>428928</th>\n",
       "      <td>126-32753</td>\n",
       "      <td>0.003113</td>\n",
       "      <td>0.004424</td>\n",
       "    </tr>\n",
       "    <tr>\n",
       "      <th>428929</th>\n",
       "      <td>126-32758</td>\n",
       "      <td>0.004070</td>\n",
       "      <td>0.005529</td>\n",
       "    </tr>\n",
       "    <tr>\n",
       "      <th>428930</th>\n",
       "      <td>126-32763</td>\n",
       "      <td>0.003357</td>\n",
       "      <td>0.004216</td>\n",
       "    </tr>\n",
       "    <tr>\n",
       "      <th>428931</th>\n",
       "      <td>126-32767</td>\n",
       "      <td>0.002090</td>\n",
       "      <td>0.002184</td>\n",
       "    </tr>\n",
       "  </tbody>\n",
       "</table>\n",
       "<p>428932 rows × 3 columns</p>\n",
       "</div>"
      ],
      "text/plain": [
       "           row_id    target      pred\n",
       "0             0-5  0.004136  0.004499\n",
       "1            0-11  0.001445  0.003966\n",
       "2            0-16  0.002168  0.002451\n",
       "3            0-31  0.002195  0.003742\n",
       "4            0-62  0.001747  0.003210\n",
       "...           ...       ...       ...\n",
       "428927  126-32751  0.003461  0.003885\n",
       "428928  126-32753  0.003113  0.004424\n",
       "428929  126-32758  0.004070  0.005529\n",
       "428930  126-32763  0.003357  0.004216\n",
       "428931  126-32767  0.002090  0.002184\n",
       "\n",
       "[428932 rows x 3 columns]"
      ]
     },
     "execution_count": 41,
     "metadata": {},
     "output_type": "execute_result"
    }
   ],
   "source": [
    "df_joined"
   ]
  },
  {
   "cell_type": "code",
   "execution_count": 42,
   "id": "ba4df7b9",
   "metadata": {
    "ExecuteTime": {
     "end_time": "2021-08-10T14:47:03.898289Z",
     "start_time": "2021-08-10T14:47:03.890681Z"
    }
   },
   "outputs": [
    {
     "name": "stdout",
     "output_type": "stream",
     "text": [
      "Performance of the naive prediction: R2 score: -0.926, RMSPE: 1.677\n"
     ]
    }
   ],
   "source": [
    "def rmspe(y_true, y_pred):\n",
    "    return  (np.sqrt(np.mean(np.square((y_true - y_pred) / y_true))))\n",
    "\n",
    "R2 = round(r2_score(y_true = df_joined['target'], y_pred = df_joined['pred']),3)\n",
    "RMSPE = round(rmspe(y_true = df_joined['target'], y_pred = df_joined['pred']),3)\n",
    "print(f'Performance of the naive prediction: R2 score: {R2}, RMSPE: {RMSPE}')"
   ]
  },
  {
   "cell_type": "code",
   "execution_count": null,
   "id": "d9e3251e",
   "metadata": {},
   "outputs": [],
   "source": []
  }
 ],
 "metadata": {
  "kernelspec": {
   "display_name": "Python 3",
   "language": "python",
   "name": "python3"
  },
  "language_info": {
   "codemirror_mode": {
    "name": "ipython",
    "version": 3
   },
   "file_extension": ".py",
   "mimetype": "text/x-python",
   "name": "python",
   "nbconvert_exporter": "python",
   "pygments_lexer": "ipython3",
   "version": "3.8.10"
  },
  "toc": {
   "base_numbering": 1,
   "nav_menu": {},
   "number_sections": true,
   "sideBar": true,
   "skip_h1_title": false,
   "title_cell": "Table of Contents",
   "title_sidebar": "Contents",
   "toc_cell": false,
   "toc_position": {},
   "toc_section_display": true,
   "toc_window_display": false
  }
 },
 "nbformat": 4,
 "nbformat_minor": 5
}
