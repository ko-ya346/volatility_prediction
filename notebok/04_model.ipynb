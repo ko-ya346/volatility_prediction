{
 "cells": [
  {
   "cell_type": "code",
   "execution_count": 1,
   "id": "9c710440",
   "metadata": {
    "ExecuteTime": {
     "end_time": "2021-08-13T03:10:30.397915Z",
     "start_time": "2021-08-13T03:10:30.395716Z"
    }
   },
   "outputs": [],
   "source": [
    "import os\n",
    "import sys\n",
    "import glob\n",
    "\n",
    "import numpy as np\n",
    "import pandas as pd\n",
    "import matplotlib.pyplot as plt\n",
    "\n",
    "from sklearn.model_selection import KFold\n",
    "\n",
    "import lightgbm as lgbm"
   ]
  },
  {
   "cell_type": "code",
   "execution_count": 2,
   "id": "c3723634",
   "metadata": {
    "ExecuteTime": {
     "end_time": "2021-08-13T02:54:38.297463Z",
     "start_time": "2021-08-13T02:54:38.295413Z"
    }
   },
   "outputs": [],
   "source": [
    "sys.path.append(\"../\")\n",
    "from src.utils import calc_wap, calc_wap2, log_return, realized_volatility, count_unique, rmspe, feval_RMSPE"
   ]
  },
  {
   "cell_type": "markdown",
   "id": "0fc78110",
   "metadata": {},
   "source": [
    "# config"
   ]
  },
  {
   "cell_type": "code",
   "execution_count": null,
   "id": "3b3362f7",
   "metadata": {},
   "outputs": [],
   "source": [
    "class CFG:\n",
    "    # 実験番号\n",
    "    exp_no = 1\n",
    "    n_splits = 5\n",
    "    \n",
    "    random_seed = 42\n",
    "    input_dir = \"../output/data\"\n",
    "    output_dir = f\"../output/exp_{exp_no}\"\n",
    "    \n",
    "    if not os.path.exists(output_dir):\n",
    "        os.makedirs(output_dir)\n",
    "\n",
    "    # params\n",
    "    # https://www.kaggle.com/felipefonte99/optiver-lgb-with-optimized-params\n",
    "    lgbm_params = {\n",
    "        'learning_rate': 0.13572437900113307,        \n",
    "        'lambda_l1': 2.154360665259325,\n",
    "        'lambda_l2': 6.711089761523827,\n",
    "        'num_leaves': 769,\n",
    "        'min_sum_hessian_in_leaf': 20.44437160769411,\n",
    "        'feature_fraction': 0.7921473067441019,\n",
    "        'feature_fraction_bynode': 0.8083803860191322,\n",
    "        'bagging_fraction': 0.9726755660563261,\n",
    "        'bagging_freq': 42,\n",
    "        'min_data_in_leaf': 690,\n",
    "        'max_depth': 3,\n",
    "        'seed': seed,\n",
    "        'feature_fraction_seed': seed,\n",
    "        'bagging_seed': seed,\n",
    "        'drop_seed': seed,\n",
    "        'data_random_seed': seed,\n",
    "        'objective': 'rmse',\n",
    "        'boosting': 'gbdt',\n",
    "        'verbosity': -1,\n",
    "        'n_jobs': -1,\n",
    "    }\n"
   ]
  },
  {
   "cell_type": "code",
   "execution_count": 28,
   "id": "cbe7c6fe",
   "metadata": {
    "ExecuteTime": {
     "end_time": "2021-08-13T02:54:06.529122Z",
     "start_time": "2021-08-13T02:54:06.525558Z"
    }
   },
   "outputs": [],
   "source": [
    "def calc_model_importance(model, feature_names=None, importance_type=\"gain\"):\n",
    "    importance_df = pd.DataFrame(\n",
    "        model.feature_importance(importance_type=importance_type),\n",
    "        index=feature_names,\n",
    "        columns=[\"importance\"],\n",
    "    ).sort_values(\"importance\")\n",
    "    return importance_df\n",
    "\n",
    "def calc_mean_importance(importance_df_list):\n",
    "    mean_importance = np.mean(\n",
    "        np.array([df['importance'].values for df in importance_df_list]), axis=0)\n",
    "    mean_df = importance_df_list[0].copy()\n",
    "    mean_df['importance'] = mean_importance\n",
    "    return mean_df\n",
    "\n",
    "def plot_importance(importance_df, title=\"\", save_filepath=None, figsize=(8, 12)):\n",
    "    fig, ax = plt.subplots(figsize=figsize)\n",
    "    importance_df.plot.barh(ax=ax)\n",
    "    if title:\n",
    "        plt.title(title)\n",
    "    plt.tight_layout()\n",
    "    if save_filepath is None:\n",
    "        plt.show()\n",
    "    else:\n",
    "        plt.savefig(save_filepath)\n",
    "    plt.close()\n",
    "    \n",
    "def save_lgbm_models(models, output_dir):\n",
    "    \"\"\"\n",
    "    loadするときは\n",
    "    clf = pickle.load(open('trained_model.pkl', 'rb'))\n",
    "    \"\"\"\n",
    "    if not os.path.exists(output_dir):\n",
    "        os.makedirs(output_dir)\n",
    "    \n",
    "    for num, model in enumerate(models):\n",
    "        model.save_model(os.path.join(output_dir, f\"model{num}.pkl\"))"
   ]
  },
  {
   "cell_type": "markdown",
   "id": "e51d5553",
   "metadata": {},
   "source": [
    "# data load"
   ]
  },
  {
   "cell_type": "code",
   "execution_count": null,
   "id": "ebaf3b6e",
   "metadata": {},
   "outputs": [],
   "source": [
    "df_train = pd.read_csv(CFG.input_dir, f\"train_exp{CFG.exp_no}.csv\")\n",
    "df_test = pd.read_csv(CFG.input_dir, f\"test_exp{CFG.exp_no}.csv\")\n",
    "\n",
    "df_train['stock_id'] = df_train['stock_id'].astype(int)\n",
    "df_test['stock_id'] = df_test['stock_id'].astype(int)\n",
    "\n",
    "DO_FEAT_IMP = False\n",
    "if len(df_test) == 3:\n",
    "    DO_FEAT_IMP = True"
   ]
  },
  {
   "cell_type": "markdown",
   "id": "8058fc41",
   "metadata": {},
   "source": [
    "# model"
   ]
  },
  {
   "cell_type": "code",
   "execution_count": 13,
   "id": "62210408",
   "metadata": {
    "ExecuteTime": {
     "end_time": "2021-08-13T03:10:16.373658Z",
     "start_time": "2021-08-13T03:10:16.345135Z"
    },
    "collapsed": true
   },
   "outputs": [
    {
     "ename": "NameError",
     "evalue": "name 'df_train' is not defined",
     "output_type": "error",
     "traceback": [
      "\u001b[0;31m---------------------------------------------------------------------------\u001b[0m",
      "\u001b[0;31mNameError\u001b[0m                                 Traceback (most recent call last)",
      "\u001b[0;32m<ipython-input-13-7e33e99290a0>\u001b[0m in \u001b[0;36m<module>\u001b[0;34m\u001b[0m\n\u001b[0;32m----> 1\u001b[0;31m \u001b[0mX\u001b[0m \u001b[0;34m=\u001b[0m \u001b[0mdf_train\u001b[0m\u001b[0;34m.\u001b[0m\u001b[0mdrop\u001b[0m\u001b[0;34m(\u001b[0m\u001b[0;34m[\u001b[0m\u001b[0;34m'row_id'\u001b[0m\u001b[0;34m,\u001b[0m\u001b[0;34m'target'\u001b[0m\u001b[0;34m]\u001b[0m\u001b[0;34m,\u001b[0m\u001b[0maxis\u001b[0m\u001b[0;34m=\u001b[0m\u001b[0;36m1\u001b[0m\u001b[0;34m)\u001b[0m\u001b[0;34m\u001b[0m\u001b[0;34m\u001b[0m\u001b[0m\n\u001b[0m\u001b[1;32m      2\u001b[0m \u001b[0my\u001b[0m \u001b[0;34m=\u001b[0m \u001b[0mdf_train\u001b[0m\u001b[0;34m[\u001b[0m\u001b[0;34m'target'\u001b[0m\u001b[0;34m]\u001b[0m\u001b[0;34m\u001b[0m\u001b[0;34m\u001b[0m\u001b[0m\n",
      "\u001b[0;31mNameError\u001b[0m: name 'df_train' is not defined"
     ]
    }
   ],
   "source": [
    "X = df_train.drop(['row_id','target'],axis=1)\n",
    "y = df_train['target']"
   ]
  },
  {
   "cell_type": "code",
   "execution_count": null,
   "id": "573f6251",
   "metadata": {
    "ExecuteTime": {
     "end_time": "2021-08-13T03:10:04.065405Z",
     "start_time": "2021-08-13T03:10:04.060323Z"
    }
   },
   "outputs": [],
   "source": [
    "kf = KFold(n_splits=CFG.n_splits, \n",
    "           random_state=CFG.random_seed, shuffle=True)\n",
    "\n",
    "oof = pd.DataFrame()\n",
    "models = []\n",
    "scores = 0.0\n",
    "\n",
    "gain_importance_list = []\n",
    "split_importance_list = []"
   ]
  },
  {
   "cell_type": "code",
   "execution_count": null,
   "id": "0f3f67e4",
   "metadata": {
    "ExecuteTime": {
     "end_time": "2021-08-13T03:10:18.238375Z",
     "start_time": "2021-08-13T03:10:18.139225Z"
    }
   },
   "outputs": [],
   "source": [
    "### CHECK\n",
    "# rmspeで評価したいのでweightを使用してる\n",
    "\n",
    "for fold, (trn_idx, val_idx) in enumerate(kf.split(X, y)):\n",
    "\n",
    "    print(\"Fold :\", fold+1)\n",
    "    \n",
    "    # create dataset\n",
    "    X_train, y_train = X.loc[trn_idx], y[trn_idx]\n",
    "    X_valid, y_valid = X.loc[val_idx], y[val_idx]\n",
    "    \n",
    "    #RMSPE weight\n",
    "    weights = 1/np.square(y_train)\n",
    "    lgbm_train = lgbm.Dataset(X_train,y_train,weight = weights)\n",
    "\n",
    "    weights = 1/np.square(y_valid)\n",
    "    lgbm_valid = lgbm.Dataset(X_valid,y_valid,reference = lgbm_train,weight = weights)\n",
    "    \n",
    "    # model \n",
    "    model = lgbm.train(params=CFG.lgbm_params,\n",
    "                      train_set=lgbm_train,\n",
    "                      valid_sets=[lgbm_train, lgbm_valid],\n",
    "                      num_boost_round=5000,         \n",
    "                      feval=feval_RMSPE,\n",
    "                      verbose_eval=100,\n",
    "                      categorical_feature = ['stock_id']                \n",
    "                     )\n",
    "    \n",
    "    # validation \n",
    "    y_pred = model.predict(X_valid, num_iteration=model.best_iteration)\n",
    "\n",
    "    RMSPE = round(rmspe(y_true = y_valid, y_pred = y_pred),3)\n",
    "    print(f'Performance of the　prediction: , RMSPE: {RMSPE}')\n",
    "\n",
    "    #keep scores and models\n",
    "    scores += RMSPE / CFG.n_splits\n",
    "    models.append(model)\n",
    "    print(\"*\" * 100)\n",
    "    \n",
    "    # --- calc model feature importance ---\n",
    "    if DO_FEAT_IMP:    \n",
    "        feature_names = X_train.columns.values.tolist()\n",
    "        gain_importance_df = calc_model_importance(\n",
    "            model, feature_names=feature_names, importance_type='gain')\n",
    "        gain_importance_list.append(gain_importance_df)\n",
    "\n",
    "        split_importance_df = calc_model_importance(\n",
    "            model, feature_names=feature_names, importance_type='split')\n",
    "        split_importance_list.append(split_importance_df)"
   ]
  },
  {
   "cell_type": "code",
   "execution_count": null,
   "id": "30400ddd",
   "metadata": {},
   "outputs": [],
   "source": [
    "lgbm_output_dir = os.path.join(CFG.output_dir, \"lgbm_model\")\n",
    "save_lgbm_models(models, lgbm_output_dir)"
   ]
  },
  {
   "cell_type": "markdown",
   "id": "6e2ce5f8",
   "metadata": {},
   "source": [
    "# TODO\n",
    "- cvを算出\n",
    "- importanceを可視化\n",
    "- "
   ]
  },
  {
   "cell_type": "code",
   "execution_count": null,
   "id": "7c9fde25",
   "metadata": {},
   "outputs": [],
   "source": [
    "if DO_FEAT_IMP:\n",
    "    mean_gain_df = calc_mean_importance(gain_importance_list)\n",
    "    plot_importance(mean_gain_df, title='Model feature importance by gain')\n",
    "    mean_gain_df = mean_gain_df.reset_index().rename(columns={'index': 'feature_names'})\n",
    "    mean_gain_df.to_csv('gain_importance_mean.csv', index=False)"
   ]
  },
  {
   "cell_type": "code",
   "execution_count": null,
   "id": "3b6c041a",
   "metadata": {},
   "outputs": [],
   "source": [
    "y_pred = df_test[['row_id']]\n",
    "X_test = df_test.drop(['time_id', 'row_id'], axis = 1)"
   ]
  },
  {
   "cell_type": "code",
   "execution_count": 14,
   "id": "f6bb252d",
   "metadata": {},
   "outputs": [
    {
     "ename": "NameError",
     "evalue": "name 'X_test' is not defined",
     "output_type": "error",
     "traceback": [
      "\u001b[0;31m---------------------------------------------------------------------------\u001b[0m",
      "\u001b[0;31mNameError\u001b[0m                                 Traceback (most recent call last)",
      "\u001b[0;32m<ipython-input-14-136b178e9c6a>\u001b[0m in \u001b[0;36m<module>\u001b[0;34m\u001b[0m\n\u001b[0;32m----> 1\u001b[0;31m \u001b[0mtarget\u001b[0m \u001b[0;34m=\u001b[0m \u001b[0mnp\u001b[0m\u001b[0;34m.\u001b[0m\u001b[0mzeros\u001b[0m\u001b[0;34m(\u001b[0m\u001b[0mlen\u001b[0m\u001b[0;34m(\u001b[0m\u001b[0mX_test\u001b[0m\u001b[0;34m)\u001b[0m\u001b[0;34m)\u001b[0m\u001b[0;34m\u001b[0m\u001b[0;34m\u001b[0m\u001b[0m\n\u001b[0m\u001b[1;32m      2\u001b[0m \u001b[0;34m\u001b[0m\u001b[0m\n\u001b[1;32m      3\u001b[0m \u001b[0;31m#light gbm models\u001b[0m\u001b[0;34m\u001b[0m\u001b[0;34m\u001b[0m\u001b[0;34m\u001b[0m\u001b[0m\n\u001b[1;32m      4\u001b[0m \u001b[0;32mfor\u001b[0m \u001b[0mmodel\u001b[0m \u001b[0;32min\u001b[0m \u001b[0mmodels\u001b[0m\u001b[0;34m:\u001b[0m\u001b[0;34m\u001b[0m\u001b[0;34m\u001b[0m\u001b[0m\n\u001b[1;32m      5\u001b[0m     \u001b[0mpred\u001b[0m \u001b[0;34m=\u001b[0m \u001b[0mmodel\u001b[0m\u001b[0;34m.\u001b[0m\u001b[0mpredict\u001b[0m\u001b[0;34m(\u001b[0m\u001b[0mX_test\u001b[0m\u001b[0;34m[\u001b[0m\u001b[0mX_valid\u001b[0m\u001b[0;34m.\u001b[0m\u001b[0mcolumns\u001b[0m\u001b[0;34m]\u001b[0m\u001b[0;34m,\u001b[0m \u001b[0mnum_iteration\u001b[0m\u001b[0;34m=\u001b[0m\u001b[0mmodel\u001b[0m\u001b[0;34m.\u001b[0m\u001b[0mbest_iteration\u001b[0m\u001b[0;34m)\u001b[0m\u001b[0;34m\u001b[0m\u001b[0;34m\u001b[0m\u001b[0m\n",
      "\u001b[0;31mNameError\u001b[0m: name 'X_test' is not defined"
     ]
    }
   ],
   "source": [
    "target = np.zeros(len(X_test))\n",
    "\n",
    "#light gbm models\n",
    "for model in models:\n",
    "    pred = model.predict(X_test[X_valid.columns], num_iteration=model.best_iteration)\n",
    "    target += pred / len(models)"
   ]
  },
  {
   "cell_type": "code",
   "execution_count": null,
   "id": "5fb8b78a",
   "metadata": {},
   "outputs": [],
   "source": [
    "y_pred = y_pred.assign(target = target)"
   ]
  },
  {
   "cell_type": "code",
   "execution_count": null,
   "id": "642aa818",
   "metadata": {},
   "outputs": [],
   "source": [
    "y_pred.to_csv('submission.csv',index = False)"
   ]
  }
 ],
 "metadata": {
  "kernelspec": {
   "display_name": "Python 3",
   "language": "python",
   "name": "python3"
  },
  "language_info": {
   "codemirror_mode": {
    "name": "ipython",
    "version": 3
   },
   "file_extension": ".py",
   "mimetype": "text/x-python",
   "name": "python",
   "nbconvert_exporter": "python",
   "pygments_lexer": "ipython3",
   "version": "3.8.10"
  },
  "toc": {
   "base_numbering": 1,
   "nav_menu": {},
   "number_sections": true,
   "sideBar": true,
   "skip_h1_title": false,
   "title_cell": "Table of Contents",
   "title_sidebar": "Contents",
   "toc_cell": false,
   "toc_position": {},
   "toc_section_display": true,
   "toc_window_display": false
  }
 },
 "nbformat": 4,
 "nbformat_minor": 5
}
